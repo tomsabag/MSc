{
  "nbformat": 4,
  "nbformat_minor": 0,
  "metadata": {
    "colab": {
      "provenance": [],
      "gpuType": "A100",
      "collapsed_sections": [
        "aD7YRctBRQ0Y",
        "iOpA_FpydWA0",
        "lmbgU3RcyR_U"
      ]
    },
    "kernelspec": {
      "name": "python3",
      "display_name": "Python 3"
    },
    "language_info": {
      "name": "python"
    },
    "accelerator": "GPU",
    "widgets": {
      "application/vnd.jupyter.widget-state+json": {
        "ad538c7f2faf466193dc1396b2d2c493": {
          "model_module": "@jupyter-widgets/controls",
          "model_name": "HBoxModel",
          "model_module_version": "1.5.0",
          "state": {
            "_dom_classes": [],
            "_model_module": "@jupyter-widgets/controls",
            "_model_module_version": "1.5.0",
            "_model_name": "HBoxModel",
            "_view_count": null,
            "_view_module": "@jupyter-widgets/controls",
            "_view_module_version": "1.5.0",
            "_view_name": "HBoxView",
            "box_style": "",
            "children": [
              "IPY_MODEL_31c18829152244e09d90e9228a205630",
              "IPY_MODEL_fb662952415047598fcb200be2520796",
              "IPY_MODEL_0a77430d93344207a36638e1a3e6cbb4"
            ],
            "layout": "IPY_MODEL_9abc81c2d8d14251b579ea1215dcee53"
          }
        },
        "31c18829152244e09d90e9228a205630": {
          "model_module": "@jupyter-widgets/controls",
          "model_name": "HTMLModel",
          "model_module_version": "1.5.0",
          "state": {
            "_dom_classes": [],
            "_model_module": "@jupyter-widgets/controls",
            "_model_module_version": "1.5.0",
            "_model_name": "HTMLModel",
            "_view_count": null,
            "_view_module": "@jupyter-widgets/controls",
            "_view_module_version": "1.5.0",
            "_view_name": "HTMLView",
            "description": "",
            "description_tooltip": null,
            "layout": "IPY_MODEL_dcb655713425470f9afee9768f238820",
            "placeholder": "​",
            "style": "IPY_MODEL_8ab49fdf19a44f0c8519c2c22ee8c4e9",
            "value": "config.json: 100%"
          }
        },
        "fb662952415047598fcb200be2520796": {
          "model_module": "@jupyter-widgets/controls",
          "model_name": "FloatProgressModel",
          "model_module_version": "1.5.0",
          "state": {
            "_dom_classes": [],
            "_model_module": "@jupyter-widgets/controls",
            "_model_module_version": "1.5.0",
            "_model_name": "FloatProgressModel",
            "_view_count": null,
            "_view_module": "@jupyter-widgets/controls",
            "_view_module_version": "1.5.0",
            "_view_name": "ProgressView",
            "bar_style": "success",
            "description": "",
            "description_tooltip": null,
            "layout": "IPY_MODEL_2260884fc55c4f279db614538158b308",
            "max": 794,
            "min": 0,
            "orientation": "horizontal",
            "style": "IPY_MODEL_b3dd9f3484234124bcf991367b489300",
            "value": 794
          }
        },
        "0a77430d93344207a36638e1a3e6cbb4": {
          "model_module": "@jupyter-widgets/controls",
          "model_name": "HTMLModel",
          "model_module_version": "1.5.0",
          "state": {
            "_dom_classes": [],
            "_model_module": "@jupyter-widgets/controls",
            "_model_module_version": "1.5.0",
            "_model_name": "HTMLModel",
            "_view_count": null,
            "_view_module": "@jupyter-widgets/controls",
            "_view_module_version": "1.5.0",
            "_view_name": "HTMLView",
            "description": "",
            "description_tooltip": null,
            "layout": "IPY_MODEL_2eac471e82324e4185012c2cb1ad2ecd",
            "placeholder": "​",
            "style": "IPY_MODEL_857e61a263754251bf35f8349caf3eb9",
            "value": " 794/794 [00:00&lt;00:00, 66.8kB/s]"
          }
        },
        "9abc81c2d8d14251b579ea1215dcee53": {
          "model_module": "@jupyter-widgets/base",
          "model_name": "LayoutModel",
          "model_module_version": "1.2.0",
          "state": {
            "_model_module": "@jupyter-widgets/base",
            "_model_module_version": "1.2.0",
            "_model_name": "LayoutModel",
            "_view_count": null,
            "_view_module": "@jupyter-widgets/base",
            "_view_module_version": "1.2.0",
            "_view_name": "LayoutView",
            "align_content": null,
            "align_items": null,
            "align_self": null,
            "border": null,
            "bottom": null,
            "display": null,
            "flex": null,
            "flex_flow": null,
            "grid_area": null,
            "grid_auto_columns": null,
            "grid_auto_flow": null,
            "grid_auto_rows": null,
            "grid_column": null,
            "grid_gap": null,
            "grid_row": null,
            "grid_template_areas": null,
            "grid_template_columns": null,
            "grid_template_rows": null,
            "height": null,
            "justify_content": null,
            "justify_items": null,
            "left": null,
            "margin": null,
            "max_height": null,
            "max_width": null,
            "min_height": null,
            "min_width": null,
            "object_fit": null,
            "object_position": null,
            "order": null,
            "overflow": null,
            "overflow_x": null,
            "overflow_y": null,
            "padding": null,
            "right": null,
            "top": null,
            "visibility": null,
            "width": null
          }
        },
        "dcb655713425470f9afee9768f238820": {
          "model_module": "@jupyter-widgets/base",
          "model_name": "LayoutModel",
          "model_module_version": "1.2.0",
          "state": {
            "_model_module": "@jupyter-widgets/base",
            "_model_module_version": "1.2.0",
            "_model_name": "LayoutModel",
            "_view_count": null,
            "_view_module": "@jupyter-widgets/base",
            "_view_module_version": "1.2.0",
            "_view_name": "LayoutView",
            "align_content": null,
            "align_items": null,
            "align_self": null,
            "border": null,
            "bottom": null,
            "display": null,
            "flex": null,
            "flex_flow": null,
            "grid_area": null,
            "grid_auto_columns": null,
            "grid_auto_flow": null,
            "grid_auto_rows": null,
            "grid_column": null,
            "grid_gap": null,
            "grid_row": null,
            "grid_template_areas": null,
            "grid_template_columns": null,
            "grid_template_rows": null,
            "height": null,
            "justify_content": null,
            "justify_items": null,
            "left": null,
            "margin": null,
            "max_height": null,
            "max_width": null,
            "min_height": null,
            "min_width": null,
            "object_fit": null,
            "object_position": null,
            "order": null,
            "overflow": null,
            "overflow_x": null,
            "overflow_y": null,
            "padding": null,
            "right": null,
            "top": null,
            "visibility": null,
            "width": null
          }
        },
        "8ab49fdf19a44f0c8519c2c22ee8c4e9": {
          "model_module": "@jupyter-widgets/controls",
          "model_name": "DescriptionStyleModel",
          "model_module_version": "1.5.0",
          "state": {
            "_model_module": "@jupyter-widgets/controls",
            "_model_module_version": "1.5.0",
            "_model_name": "DescriptionStyleModel",
            "_view_count": null,
            "_view_module": "@jupyter-widgets/base",
            "_view_module_version": "1.2.0",
            "_view_name": "StyleView",
            "description_width": ""
          }
        },
        "2260884fc55c4f279db614538158b308": {
          "model_module": "@jupyter-widgets/base",
          "model_name": "LayoutModel",
          "model_module_version": "1.2.0",
          "state": {
            "_model_module": "@jupyter-widgets/base",
            "_model_module_version": "1.2.0",
            "_model_name": "LayoutModel",
            "_view_count": null,
            "_view_module": "@jupyter-widgets/base",
            "_view_module_version": "1.2.0",
            "_view_name": "LayoutView",
            "align_content": null,
            "align_items": null,
            "align_self": null,
            "border": null,
            "bottom": null,
            "display": null,
            "flex": null,
            "flex_flow": null,
            "grid_area": null,
            "grid_auto_columns": null,
            "grid_auto_flow": null,
            "grid_auto_rows": null,
            "grid_column": null,
            "grid_gap": null,
            "grid_row": null,
            "grid_template_areas": null,
            "grid_template_columns": null,
            "grid_template_rows": null,
            "height": null,
            "justify_content": null,
            "justify_items": null,
            "left": null,
            "margin": null,
            "max_height": null,
            "max_width": null,
            "min_height": null,
            "min_width": null,
            "object_fit": null,
            "object_position": null,
            "order": null,
            "overflow": null,
            "overflow_x": null,
            "overflow_y": null,
            "padding": null,
            "right": null,
            "top": null,
            "visibility": null,
            "width": null
          }
        },
        "b3dd9f3484234124bcf991367b489300": {
          "model_module": "@jupyter-widgets/controls",
          "model_name": "ProgressStyleModel",
          "model_module_version": "1.5.0",
          "state": {
            "_model_module": "@jupyter-widgets/controls",
            "_model_module_version": "1.5.0",
            "_model_name": "ProgressStyleModel",
            "_view_count": null,
            "_view_module": "@jupyter-widgets/base",
            "_view_module_version": "1.2.0",
            "_view_name": "StyleView",
            "bar_color": null,
            "description_width": ""
          }
        },
        "2eac471e82324e4185012c2cb1ad2ecd": {
          "model_module": "@jupyter-widgets/base",
          "model_name": "LayoutModel",
          "model_module_version": "1.2.0",
          "state": {
            "_model_module": "@jupyter-widgets/base",
            "_model_module_version": "1.2.0",
            "_model_name": "LayoutModel",
            "_view_count": null,
            "_view_module": "@jupyter-widgets/base",
            "_view_module_version": "1.2.0",
            "_view_name": "LayoutView",
            "align_content": null,
            "align_items": null,
            "align_self": null,
            "border": null,
            "bottom": null,
            "display": null,
            "flex": null,
            "flex_flow": null,
            "grid_area": null,
            "grid_auto_columns": null,
            "grid_auto_flow": null,
            "grid_auto_rows": null,
            "grid_column": null,
            "grid_gap": null,
            "grid_row": null,
            "grid_template_areas": null,
            "grid_template_columns": null,
            "grid_template_rows": null,
            "height": null,
            "justify_content": null,
            "justify_items": null,
            "left": null,
            "margin": null,
            "max_height": null,
            "max_width": null,
            "min_height": null,
            "min_width": null,
            "object_fit": null,
            "object_position": null,
            "order": null,
            "overflow": null,
            "overflow_x": null,
            "overflow_y": null,
            "padding": null,
            "right": null,
            "top": null,
            "visibility": null,
            "width": null
          }
        },
        "857e61a263754251bf35f8349caf3eb9": {
          "model_module": "@jupyter-widgets/controls",
          "model_name": "DescriptionStyleModel",
          "model_module_version": "1.5.0",
          "state": {
            "_model_module": "@jupyter-widgets/controls",
            "_model_module_version": "1.5.0",
            "_model_name": "DescriptionStyleModel",
            "_view_count": null,
            "_view_module": "@jupyter-widgets/base",
            "_view_module_version": "1.2.0",
            "_view_name": "StyleView",
            "description_width": ""
          }
        },
        "1cbe55bee43643898a7b0155fe3d9014": {
          "model_module": "@jupyter-widgets/controls",
          "model_name": "HBoxModel",
          "model_module_version": "1.5.0",
          "state": {
            "_dom_classes": [],
            "_model_module": "@jupyter-widgets/controls",
            "_model_module_version": "1.5.0",
            "_model_name": "HBoxModel",
            "_view_count": null,
            "_view_module": "@jupyter-widgets/controls",
            "_view_module_version": "1.5.0",
            "_view_name": "HBoxView",
            "box_style": "",
            "children": [
              "IPY_MODEL_b7b85d7888d24a05b971c6e41418f8ca",
              "IPY_MODEL_b47bbefd71ce4915ac199885b2f339fe",
              "IPY_MODEL_656ea366ce51400fa021edd14ebab9e0"
            ],
            "layout": "IPY_MODEL_4269957c199944a290b95bf68f7f9f54"
          }
        },
        "b7b85d7888d24a05b971c6e41418f8ca": {
          "model_module": "@jupyter-widgets/controls",
          "model_name": "HTMLModel",
          "model_module_version": "1.5.0",
          "state": {
            "_dom_classes": [],
            "_model_module": "@jupyter-widgets/controls",
            "_model_module_version": "1.5.0",
            "_model_name": "HTMLModel",
            "_view_count": null,
            "_view_module": "@jupyter-widgets/controls",
            "_view_module_version": "1.5.0",
            "_view_name": "HTMLView",
            "description": "",
            "description_tooltip": null,
            "layout": "IPY_MODEL_47f6fe396c5948a5911581066bfcd43f",
            "placeholder": "​",
            "style": "IPY_MODEL_239948d4876e44d988de0b2825003fcd",
            "value": "model.safetensors: 100%"
          }
        },
        "b47bbefd71ce4915ac199885b2f339fe": {
          "model_module": "@jupyter-widgets/controls",
          "model_name": "FloatProgressModel",
          "model_module_version": "1.5.0",
          "state": {
            "_dom_classes": [],
            "_model_module": "@jupyter-widgets/controls",
            "_model_module_version": "1.5.0",
            "_model_name": "FloatProgressModel",
            "_view_count": null,
            "_view_module": "@jupyter-widgets/controls",
            "_view_module_version": "1.5.0",
            "_view_name": "ProgressView",
            "bar_style": "success",
            "description": "",
            "description_tooltip": null,
            "layout": "IPY_MODEL_db3161fbf3c14b8abe8405dd29d6e525",
            "max": 90870598,
            "min": 0,
            "orientation": "horizontal",
            "style": "IPY_MODEL_dcee523aed474cf5842df83a4342b51f",
            "value": 90870598
          }
        },
        "656ea366ce51400fa021edd14ebab9e0": {
          "model_module": "@jupyter-widgets/controls",
          "model_name": "HTMLModel",
          "model_module_version": "1.5.0",
          "state": {
            "_dom_classes": [],
            "_model_module": "@jupyter-widgets/controls",
            "_model_module_version": "1.5.0",
            "_model_name": "HTMLModel",
            "_view_count": null,
            "_view_module": "@jupyter-widgets/controls",
            "_view_module_version": "1.5.0",
            "_view_name": "HTMLView",
            "description": "",
            "description_tooltip": null,
            "layout": "IPY_MODEL_57ac0ffffe04481f870de81af9c577f0",
            "placeholder": "​",
            "style": "IPY_MODEL_dfc165cf106148629c1fecb93fbc18ab",
            "value": " 90.9M/90.9M [00:00&lt;00:00, 127MB/s]"
          }
        },
        "4269957c199944a290b95bf68f7f9f54": {
          "model_module": "@jupyter-widgets/base",
          "model_name": "LayoutModel",
          "model_module_version": "1.2.0",
          "state": {
            "_model_module": "@jupyter-widgets/base",
            "_model_module_version": "1.2.0",
            "_model_name": "LayoutModel",
            "_view_count": null,
            "_view_module": "@jupyter-widgets/base",
            "_view_module_version": "1.2.0",
            "_view_name": "LayoutView",
            "align_content": null,
            "align_items": null,
            "align_self": null,
            "border": null,
            "bottom": null,
            "display": null,
            "flex": null,
            "flex_flow": null,
            "grid_area": null,
            "grid_auto_columns": null,
            "grid_auto_flow": null,
            "grid_auto_rows": null,
            "grid_column": null,
            "grid_gap": null,
            "grid_row": null,
            "grid_template_areas": null,
            "grid_template_columns": null,
            "grid_template_rows": null,
            "height": null,
            "justify_content": null,
            "justify_items": null,
            "left": null,
            "margin": null,
            "max_height": null,
            "max_width": null,
            "min_height": null,
            "min_width": null,
            "object_fit": null,
            "object_position": null,
            "order": null,
            "overflow": null,
            "overflow_x": null,
            "overflow_y": null,
            "padding": null,
            "right": null,
            "top": null,
            "visibility": null,
            "width": null
          }
        },
        "47f6fe396c5948a5911581066bfcd43f": {
          "model_module": "@jupyter-widgets/base",
          "model_name": "LayoutModel",
          "model_module_version": "1.2.0",
          "state": {
            "_model_module": "@jupyter-widgets/base",
            "_model_module_version": "1.2.0",
            "_model_name": "LayoutModel",
            "_view_count": null,
            "_view_module": "@jupyter-widgets/base",
            "_view_module_version": "1.2.0",
            "_view_name": "LayoutView",
            "align_content": null,
            "align_items": null,
            "align_self": null,
            "border": null,
            "bottom": null,
            "display": null,
            "flex": null,
            "flex_flow": null,
            "grid_area": null,
            "grid_auto_columns": null,
            "grid_auto_flow": null,
            "grid_auto_rows": null,
            "grid_column": null,
            "grid_gap": null,
            "grid_row": null,
            "grid_template_areas": null,
            "grid_template_columns": null,
            "grid_template_rows": null,
            "height": null,
            "justify_content": null,
            "justify_items": null,
            "left": null,
            "margin": null,
            "max_height": null,
            "max_width": null,
            "min_height": null,
            "min_width": null,
            "object_fit": null,
            "object_position": null,
            "order": null,
            "overflow": null,
            "overflow_x": null,
            "overflow_y": null,
            "padding": null,
            "right": null,
            "top": null,
            "visibility": null,
            "width": null
          }
        },
        "239948d4876e44d988de0b2825003fcd": {
          "model_module": "@jupyter-widgets/controls",
          "model_name": "DescriptionStyleModel",
          "model_module_version": "1.5.0",
          "state": {
            "_model_module": "@jupyter-widgets/controls",
            "_model_module_version": "1.5.0",
            "_model_name": "DescriptionStyleModel",
            "_view_count": null,
            "_view_module": "@jupyter-widgets/base",
            "_view_module_version": "1.2.0",
            "_view_name": "StyleView",
            "description_width": ""
          }
        },
        "db3161fbf3c14b8abe8405dd29d6e525": {
          "model_module": "@jupyter-widgets/base",
          "model_name": "LayoutModel",
          "model_module_version": "1.2.0",
          "state": {
            "_model_module": "@jupyter-widgets/base",
            "_model_module_version": "1.2.0",
            "_model_name": "LayoutModel",
            "_view_count": null,
            "_view_module": "@jupyter-widgets/base",
            "_view_module_version": "1.2.0",
            "_view_name": "LayoutView",
            "align_content": null,
            "align_items": null,
            "align_self": null,
            "border": null,
            "bottom": null,
            "display": null,
            "flex": null,
            "flex_flow": null,
            "grid_area": null,
            "grid_auto_columns": null,
            "grid_auto_flow": null,
            "grid_auto_rows": null,
            "grid_column": null,
            "grid_gap": null,
            "grid_row": null,
            "grid_template_areas": null,
            "grid_template_columns": null,
            "grid_template_rows": null,
            "height": null,
            "justify_content": null,
            "justify_items": null,
            "left": null,
            "margin": null,
            "max_height": null,
            "max_width": null,
            "min_height": null,
            "min_width": null,
            "object_fit": null,
            "object_position": null,
            "order": null,
            "overflow": null,
            "overflow_x": null,
            "overflow_y": null,
            "padding": null,
            "right": null,
            "top": null,
            "visibility": null,
            "width": null
          }
        },
        "dcee523aed474cf5842df83a4342b51f": {
          "model_module": "@jupyter-widgets/controls",
          "model_name": "ProgressStyleModel",
          "model_module_version": "1.5.0",
          "state": {
            "_model_module": "@jupyter-widgets/controls",
            "_model_module_version": "1.5.0",
            "_model_name": "ProgressStyleModel",
            "_view_count": null,
            "_view_module": "@jupyter-widgets/base",
            "_view_module_version": "1.2.0",
            "_view_name": "StyleView",
            "bar_color": null,
            "description_width": ""
          }
        },
        "57ac0ffffe04481f870de81af9c577f0": {
          "model_module": "@jupyter-widgets/base",
          "model_name": "LayoutModel",
          "model_module_version": "1.2.0",
          "state": {
            "_model_module": "@jupyter-widgets/base",
            "_model_module_version": "1.2.0",
            "_model_name": "LayoutModel",
            "_view_count": null,
            "_view_module": "@jupyter-widgets/base",
            "_view_module_version": "1.2.0",
            "_view_name": "LayoutView",
            "align_content": null,
            "align_items": null,
            "align_self": null,
            "border": null,
            "bottom": null,
            "display": null,
            "flex": null,
            "flex_flow": null,
            "grid_area": null,
            "grid_auto_columns": null,
            "grid_auto_flow": null,
            "grid_auto_rows": null,
            "grid_column": null,
            "grid_gap": null,
            "grid_row": null,
            "grid_template_areas": null,
            "grid_template_columns": null,
            "grid_template_rows": null,
            "height": null,
            "justify_content": null,
            "justify_items": null,
            "left": null,
            "margin": null,
            "max_height": null,
            "max_width": null,
            "min_height": null,
            "min_width": null,
            "object_fit": null,
            "object_position": null,
            "order": null,
            "overflow": null,
            "overflow_x": null,
            "overflow_y": null,
            "padding": null,
            "right": null,
            "top": null,
            "visibility": null,
            "width": null
          }
        },
        "dfc165cf106148629c1fecb93fbc18ab": {
          "model_module": "@jupyter-widgets/controls",
          "model_name": "DescriptionStyleModel",
          "model_module_version": "1.5.0",
          "state": {
            "_model_module": "@jupyter-widgets/controls",
            "_model_module_version": "1.5.0",
            "_model_name": "DescriptionStyleModel",
            "_view_count": null,
            "_view_module": "@jupyter-widgets/base",
            "_view_module_version": "1.2.0",
            "_view_name": "StyleView",
            "description_width": ""
          }
        },
        "efc07d4fb5cb42eda0c9221d5a38508f": {
          "model_module": "@jupyter-widgets/controls",
          "model_name": "HBoxModel",
          "model_module_version": "1.5.0",
          "state": {
            "_dom_classes": [],
            "_model_module": "@jupyter-widgets/controls",
            "_model_module_version": "1.5.0",
            "_model_name": "HBoxModel",
            "_view_count": null,
            "_view_module": "@jupyter-widgets/controls",
            "_view_module_version": "1.5.0",
            "_view_name": "HBoxView",
            "box_style": "",
            "children": [
              "IPY_MODEL_9ce0dcf199d348e8b7538cdeb62350bb",
              "IPY_MODEL_b743e83a5ca14f2599b24c85784d2101",
              "IPY_MODEL_e2de8537758d43599fe24b861881f418"
            ],
            "layout": "IPY_MODEL_270faf1049f94eaca7a6badecb0d4f18"
          }
        },
        "9ce0dcf199d348e8b7538cdeb62350bb": {
          "model_module": "@jupyter-widgets/controls",
          "model_name": "HTMLModel",
          "model_module_version": "1.5.0",
          "state": {
            "_dom_classes": [],
            "_model_module": "@jupyter-widgets/controls",
            "_model_module_version": "1.5.0",
            "_model_name": "HTMLModel",
            "_view_count": null,
            "_view_module": "@jupyter-widgets/controls",
            "_view_module_version": "1.5.0",
            "_view_name": "HTMLView",
            "description": "",
            "description_tooltip": null,
            "layout": "IPY_MODEL_da948584583a4e4a96efd33210e8b2fd",
            "placeholder": "​",
            "style": "IPY_MODEL_a0e86ec084eb460896164a415425c19f",
            "value": "tokenizer_config.json: 100%"
          }
        },
        "b743e83a5ca14f2599b24c85784d2101": {
          "model_module": "@jupyter-widgets/controls",
          "model_name": "FloatProgressModel",
          "model_module_version": "1.5.0",
          "state": {
            "_dom_classes": [],
            "_model_module": "@jupyter-widgets/controls",
            "_model_module_version": "1.5.0",
            "_model_name": "FloatProgressModel",
            "_view_count": null,
            "_view_module": "@jupyter-widgets/controls",
            "_view_module_version": "1.5.0",
            "_view_name": "ProgressView",
            "bar_style": "success",
            "description": "",
            "description_tooltip": null,
            "layout": "IPY_MODEL_23a786f4189749588ba3543ff1f3a952",
            "max": 316,
            "min": 0,
            "orientation": "horizontal",
            "style": "IPY_MODEL_9908493018474040bd98a51415926812",
            "value": 316
          }
        },
        "e2de8537758d43599fe24b861881f418": {
          "model_module": "@jupyter-widgets/controls",
          "model_name": "HTMLModel",
          "model_module_version": "1.5.0",
          "state": {
            "_dom_classes": [],
            "_model_module": "@jupyter-widgets/controls",
            "_model_module_version": "1.5.0",
            "_model_name": "HTMLModel",
            "_view_count": null,
            "_view_module": "@jupyter-widgets/controls",
            "_view_module_version": "1.5.0",
            "_view_name": "HTMLView",
            "description": "",
            "description_tooltip": null,
            "layout": "IPY_MODEL_89272354a01845cdbc4f971d6602f08f",
            "placeholder": "​",
            "style": "IPY_MODEL_1a79fc94ac3343f1a52d82d63d2427dc",
            "value": " 316/316 [00:00&lt;00:00, 23.8kB/s]"
          }
        },
        "270faf1049f94eaca7a6badecb0d4f18": {
          "model_module": "@jupyter-widgets/base",
          "model_name": "LayoutModel",
          "model_module_version": "1.2.0",
          "state": {
            "_model_module": "@jupyter-widgets/base",
            "_model_module_version": "1.2.0",
            "_model_name": "LayoutModel",
            "_view_count": null,
            "_view_module": "@jupyter-widgets/base",
            "_view_module_version": "1.2.0",
            "_view_name": "LayoutView",
            "align_content": null,
            "align_items": null,
            "align_self": null,
            "border": null,
            "bottom": null,
            "display": null,
            "flex": null,
            "flex_flow": null,
            "grid_area": null,
            "grid_auto_columns": null,
            "grid_auto_flow": null,
            "grid_auto_rows": null,
            "grid_column": null,
            "grid_gap": null,
            "grid_row": null,
            "grid_template_areas": null,
            "grid_template_columns": null,
            "grid_template_rows": null,
            "height": null,
            "justify_content": null,
            "justify_items": null,
            "left": null,
            "margin": null,
            "max_height": null,
            "max_width": null,
            "min_height": null,
            "min_width": null,
            "object_fit": null,
            "object_position": null,
            "order": null,
            "overflow": null,
            "overflow_x": null,
            "overflow_y": null,
            "padding": null,
            "right": null,
            "top": null,
            "visibility": null,
            "width": null
          }
        },
        "da948584583a4e4a96efd33210e8b2fd": {
          "model_module": "@jupyter-widgets/base",
          "model_name": "LayoutModel",
          "model_module_version": "1.2.0",
          "state": {
            "_model_module": "@jupyter-widgets/base",
            "_model_module_version": "1.2.0",
            "_model_name": "LayoutModel",
            "_view_count": null,
            "_view_module": "@jupyter-widgets/base",
            "_view_module_version": "1.2.0",
            "_view_name": "LayoutView",
            "align_content": null,
            "align_items": null,
            "align_self": null,
            "border": null,
            "bottom": null,
            "display": null,
            "flex": null,
            "flex_flow": null,
            "grid_area": null,
            "grid_auto_columns": null,
            "grid_auto_flow": null,
            "grid_auto_rows": null,
            "grid_column": null,
            "grid_gap": null,
            "grid_row": null,
            "grid_template_areas": null,
            "grid_template_columns": null,
            "grid_template_rows": null,
            "height": null,
            "justify_content": null,
            "justify_items": null,
            "left": null,
            "margin": null,
            "max_height": null,
            "max_width": null,
            "min_height": null,
            "min_width": null,
            "object_fit": null,
            "object_position": null,
            "order": null,
            "overflow": null,
            "overflow_x": null,
            "overflow_y": null,
            "padding": null,
            "right": null,
            "top": null,
            "visibility": null,
            "width": null
          }
        },
        "a0e86ec084eb460896164a415425c19f": {
          "model_module": "@jupyter-widgets/controls",
          "model_name": "DescriptionStyleModel",
          "model_module_version": "1.5.0",
          "state": {
            "_model_module": "@jupyter-widgets/controls",
            "_model_module_version": "1.5.0",
            "_model_name": "DescriptionStyleModel",
            "_view_count": null,
            "_view_module": "@jupyter-widgets/base",
            "_view_module_version": "1.2.0",
            "_view_name": "StyleView",
            "description_width": ""
          }
        },
        "23a786f4189749588ba3543ff1f3a952": {
          "model_module": "@jupyter-widgets/base",
          "model_name": "LayoutModel",
          "model_module_version": "1.2.0",
          "state": {
            "_model_module": "@jupyter-widgets/base",
            "_model_module_version": "1.2.0",
            "_model_name": "LayoutModel",
            "_view_count": null,
            "_view_module": "@jupyter-widgets/base",
            "_view_module_version": "1.2.0",
            "_view_name": "LayoutView",
            "align_content": null,
            "align_items": null,
            "align_self": null,
            "border": null,
            "bottom": null,
            "display": null,
            "flex": null,
            "flex_flow": null,
            "grid_area": null,
            "grid_auto_columns": null,
            "grid_auto_flow": null,
            "grid_auto_rows": null,
            "grid_column": null,
            "grid_gap": null,
            "grid_row": null,
            "grid_template_areas": null,
            "grid_template_columns": null,
            "grid_template_rows": null,
            "height": null,
            "justify_content": null,
            "justify_items": null,
            "left": null,
            "margin": null,
            "max_height": null,
            "max_width": null,
            "min_height": null,
            "min_width": null,
            "object_fit": null,
            "object_position": null,
            "order": null,
            "overflow": null,
            "overflow_x": null,
            "overflow_y": null,
            "padding": null,
            "right": null,
            "top": null,
            "visibility": null,
            "width": null
          }
        },
        "9908493018474040bd98a51415926812": {
          "model_module": "@jupyter-widgets/controls",
          "model_name": "ProgressStyleModel",
          "model_module_version": "1.5.0",
          "state": {
            "_model_module": "@jupyter-widgets/controls",
            "_model_module_version": "1.5.0",
            "_model_name": "ProgressStyleModel",
            "_view_count": null,
            "_view_module": "@jupyter-widgets/base",
            "_view_module_version": "1.2.0",
            "_view_name": "StyleView",
            "bar_color": null,
            "description_width": ""
          }
        },
        "89272354a01845cdbc4f971d6602f08f": {
          "model_module": "@jupyter-widgets/base",
          "model_name": "LayoutModel",
          "model_module_version": "1.2.0",
          "state": {
            "_model_module": "@jupyter-widgets/base",
            "_model_module_version": "1.2.0",
            "_model_name": "LayoutModel",
            "_view_count": null,
            "_view_module": "@jupyter-widgets/base",
            "_view_module_version": "1.2.0",
            "_view_name": "LayoutView",
            "align_content": null,
            "align_items": null,
            "align_self": null,
            "border": null,
            "bottom": null,
            "display": null,
            "flex": null,
            "flex_flow": null,
            "grid_area": null,
            "grid_auto_columns": null,
            "grid_auto_flow": null,
            "grid_auto_rows": null,
            "grid_column": null,
            "grid_gap": null,
            "grid_row": null,
            "grid_template_areas": null,
            "grid_template_columns": null,
            "grid_template_rows": null,
            "height": null,
            "justify_content": null,
            "justify_items": null,
            "left": null,
            "margin": null,
            "max_height": null,
            "max_width": null,
            "min_height": null,
            "min_width": null,
            "object_fit": null,
            "object_position": null,
            "order": null,
            "overflow": null,
            "overflow_x": null,
            "overflow_y": null,
            "padding": null,
            "right": null,
            "top": null,
            "visibility": null,
            "width": null
          }
        },
        "1a79fc94ac3343f1a52d82d63d2427dc": {
          "model_module": "@jupyter-widgets/controls",
          "model_name": "DescriptionStyleModel",
          "model_module_version": "1.5.0",
          "state": {
            "_model_module": "@jupyter-widgets/controls",
            "_model_module_version": "1.5.0",
            "_model_name": "DescriptionStyleModel",
            "_view_count": null,
            "_view_module": "@jupyter-widgets/base",
            "_view_module_version": "1.2.0",
            "_view_name": "StyleView",
            "description_width": ""
          }
        },
        "12fc0ef74d524017877bd6740040f791": {
          "model_module": "@jupyter-widgets/controls",
          "model_name": "HBoxModel",
          "model_module_version": "1.5.0",
          "state": {
            "_dom_classes": [],
            "_model_module": "@jupyter-widgets/controls",
            "_model_module_version": "1.5.0",
            "_model_name": "HBoxModel",
            "_view_count": null,
            "_view_module": "@jupyter-widgets/controls",
            "_view_module_version": "1.5.0",
            "_view_name": "HBoxView",
            "box_style": "",
            "children": [
              "IPY_MODEL_b3b1ec86dddf42f08a3f4fcda034cf32",
              "IPY_MODEL_125a911bf3944f83989e25146dcc3614",
              "IPY_MODEL_dfd37e585a4f417b91e8ccecfacecdca"
            ],
            "layout": "IPY_MODEL_a9b2a7e6f4c14703ba41a997725cf9e5"
          }
        },
        "b3b1ec86dddf42f08a3f4fcda034cf32": {
          "model_module": "@jupyter-widgets/controls",
          "model_name": "HTMLModel",
          "model_module_version": "1.5.0",
          "state": {
            "_dom_classes": [],
            "_model_module": "@jupyter-widgets/controls",
            "_model_module_version": "1.5.0",
            "_model_name": "HTMLModel",
            "_view_count": null,
            "_view_module": "@jupyter-widgets/controls",
            "_view_module_version": "1.5.0",
            "_view_name": "HTMLView",
            "description": "",
            "description_tooltip": null,
            "layout": "IPY_MODEL_53a5082f3e134122a87fe78142d96e7e",
            "placeholder": "​",
            "style": "IPY_MODEL_0caf6c10761c4b3796cae31e6c926027",
            "value": "vocab.txt: 100%"
          }
        },
        "125a911bf3944f83989e25146dcc3614": {
          "model_module": "@jupyter-widgets/controls",
          "model_name": "FloatProgressModel",
          "model_module_version": "1.5.0",
          "state": {
            "_dom_classes": [],
            "_model_module": "@jupyter-widgets/controls",
            "_model_module_version": "1.5.0",
            "_model_name": "FloatProgressModel",
            "_view_count": null,
            "_view_module": "@jupyter-widgets/controls",
            "_view_module_version": "1.5.0",
            "_view_name": "ProgressView",
            "bar_style": "success",
            "description": "",
            "description_tooltip": null,
            "layout": "IPY_MODEL_5a92252939d94f63b3e8a3f36eb6a7b1",
            "max": 231508,
            "min": 0,
            "orientation": "horizontal",
            "style": "IPY_MODEL_a54bcf6b502c4acd9d74a5973d872f0f",
            "value": 231508
          }
        },
        "dfd37e585a4f417b91e8ccecfacecdca": {
          "model_module": "@jupyter-widgets/controls",
          "model_name": "HTMLModel",
          "model_module_version": "1.5.0",
          "state": {
            "_dom_classes": [],
            "_model_module": "@jupyter-widgets/controls",
            "_model_module_version": "1.5.0",
            "_model_name": "HTMLModel",
            "_view_count": null,
            "_view_module": "@jupyter-widgets/controls",
            "_view_module_version": "1.5.0",
            "_view_name": "HTMLView",
            "description": "",
            "description_tooltip": null,
            "layout": "IPY_MODEL_b09ff1ba865f498fb12ccb8dce4be0a2",
            "placeholder": "​",
            "style": "IPY_MODEL_97d063b6e3024034bd923d4604142408",
            "value": " 232k/232k [00:00&lt;00:00, 5.17MB/s]"
          }
        },
        "a9b2a7e6f4c14703ba41a997725cf9e5": {
          "model_module": "@jupyter-widgets/base",
          "model_name": "LayoutModel",
          "model_module_version": "1.2.0",
          "state": {
            "_model_module": "@jupyter-widgets/base",
            "_model_module_version": "1.2.0",
            "_model_name": "LayoutModel",
            "_view_count": null,
            "_view_module": "@jupyter-widgets/base",
            "_view_module_version": "1.2.0",
            "_view_name": "LayoutView",
            "align_content": null,
            "align_items": null,
            "align_self": null,
            "border": null,
            "bottom": null,
            "display": null,
            "flex": null,
            "flex_flow": null,
            "grid_area": null,
            "grid_auto_columns": null,
            "grid_auto_flow": null,
            "grid_auto_rows": null,
            "grid_column": null,
            "grid_gap": null,
            "grid_row": null,
            "grid_template_areas": null,
            "grid_template_columns": null,
            "grid_template_rows": null,
            "height": null,
            "justify_content": null,
            "justify_items": null,
            "left": null,
            "margin": null,
            "max_height": null,
            "max_width": null,
            "min_height": null,
            "min_width": null,
            "object_fit": null,
            "object_position": null,
            "order": null,
            "overflow": null,
            "overflow_x": null,
            "overflow_y": null,
            "padding": null,
            "right": null,
            "top": null,
            "visibility": null,
            "width": null
          }
        },
        "53a5082f3e134122a87fe78142d96e7e": {
          "model_module": "@jupyter-widgets/base",
          "model_name": "LayoutModel",
          "model_module_version": "1.2.0",
          "state": {
            "_model_module": "@jupyter-widgets/base",
            "_model_module_version": "1.2.0",
            "_model_name": "LayoutModel",
            "_view_count": null,
            "_view_module": "@jupyter-widgets/base",
            "_view_module_version": "1.2.0",
            "_view_name": "LayoutView",
            "align_content": null,
            "align_items": null,
            "align_self": null,
            "border": null,
            "bottom": null,
            "display": null,
            "flex": null,
            "flex_flow": null,
            "grid_area": null,
            "grid_auto_columns": null,
            "grid_auto_flow": null,
            "grid_auto_rows": null,
            "grid_column": null,
            "grid_gap": null,
            "grid_row": null,
            "grid_template_areas": null,
            "grid_template_columns": null,
            "grid_template_rows": null,
            "height": null,
            "justify_content": null,
            "justify_items": null,
            "left": null,
            "margin": null,
            "max_height": null,
            "max_width": null,
            "min_height": null,
            "min_width": null,
            "object_fit": null,
            "object_position": null,
            "order": null,
            "overflow": null,
            "overflow_x": null,
            "overflow_y": null,
            "padding": null,
            "right": null,
            "top": null,
            "visibility": null,
            "width": null
          }
        },
        "0caf6c10761c4b3796cae31e6c926027": {
          "model_module": "@jupyter-widgets/controls",
          "model_name": "DescriptionStyleModel",
          "model_module_version": "1.5.0",
          "state": {
            "_model_module": "@jupyter-widgets/controls",
            "_model_module_version": "1.5.0",
            "_model_name": "DescriptionStyleModel",
            "_view_count": null,
            "_view_module": "@jupyter-widgets/base",
            "_view_module_version": "1.2.0",
            "_view_name": "StyleView",
            "description_width": ""
          }
        },
        "5a92252939d94f63b3e8a3f36eb6a7b1": {
          "model_module": "@jupyter-widgets/base",
          "model_name": "LayoutModel",
          "model_module_version": "1.2.0",
          "state": {
            "_model_module": "@jupyter-widgets/base",
            "_model_module_version": "1.2.0",
            "_model_name": "LayoutModel",
            "_view_count": null,
            "_view_module": "@jupyter-widgets/base",
            "_view_module_version": "1.2.0",
            "_view_name": "LayoutView",
            "align_content": null,
            "align_items": null,
            "align_self": null,
            "border": null,
            "bottom": null,
            "display": null,
            "flex": null,
            "flex_flow": null,
            "grid_area": null,
            "grid_auto_columns": null,
            "grid_auto_flow": null,
            "grid_auto_rows": null,
            "grid_column": null,
            "grid_gap": null,
            "grid_row": null,
            "grid_template_areas": null,
            "grid_template_columns": null,
            "grid_template_rows": null,
            "height": null,
            "justify_content": null,
            "justify_items": null,
            "left": null,
            "margin": null,
            "max_height": null,
            "max_width": null,
            "min_height": null,
            "min_width": null,
            "object_fit": null,
            "object_position": null,
            "order": null,
            "overflow": null,
            "overflow_x": null,
            "overflow_y": null,
            "padding": null,
            "right": null,
            "top": null,
            "visibility": null,
            "width": null
          }
        },
        "a54bcf6b502c4acd9d74a5973d872f0f": {
          "model_module": "@jupyter-widgets/controls",
          "model_name": "ProgressStyleModel",
          "model_module_version": "1.5.0",
          "state": {
            "_model_module": "@jupyter-widgets/controls",
            "_model_module_version": "1.5.0",
            "_model_name": "ProgressStyleModel",
            "_view_count": null,
            "_view_module": "@jupyter-widgets/base",
            "_view_module_version": "1.2.0",
            "_view_name": "StyleView",
            "bar_color": null,
            "description_width": ""
          }
        },
        "b09ff1ba865f498fb12ccb8dce4be0a2": {
          "model_module": "@jupyter-widgets/base",
          "model_name": "LayoutModel",
          "model_module_version": "1.2.0",
          "state": {
            "_model_module": "@jupyter-widgets/base",
            "_model_module_version": "1.2.0",
            "_model_name": "LayoutModel",
            "_view_count": null,
            "_view_module": "@jupyter-widgets/base",
            "_view_module_version": "1.2.0",
            "_view_name": "LayoutView",
            "align_content": null,
            "align_items": null,
            "align_self": null,
            "border": null,
            "bottom": null,
            "display": null,
            "flex": null,
            "flex_flow": null,
            "grid_area": null,
            "grid_auto_columns": null,
            "grid_auto_flow": null,
            "grid_auto_rows": null,
            "grid_column": null,
            "grid_gap": null,
            "grid_row": null,
            "grid_template_areas": null,
            "grid_template_columns": null,
            "grid_template_rows": null,
            "height": null,
            "justify_content": null,
            "justify_items": null,
            "left": null,
            "margin": null,
            "max_height": null,
            "max_width": null,
            "min_height": null,
            "min_width": null,
            "object_fit": null,
            "object_position": null,
            "order": null,
            "overflow": null,
            "overflow_x": null,
            "overflow_y": null,
            "padding": null,
            "right": null,
            "top": null,
            "visibility": null,
            "width": null
          }
        },
        "97d063b6e3024034bd923d4604142408": {
          "model_module": "@jupyter-widgets/controls",
          "model_name": "DescriptionStyleModel",
          "model_module_version": "1.5.0",
          "state": {
            "_model_module": "@jupyter-widgets/controls",
            "_model_module_version": "1.5.0",
            "_model_name": "DescriptionStyleModel",
            "_view_count": null,
            "_view_module": "@jupyter-widgets/base",
            "_view_module_version": "1.2.0",
            "_view_name": "StyleView",
            "description_width": ""
          }
        },
        "78cdc5994dd246baa45ab16a020ce4d2": {
          "model_module": "@jupyter-widgets/controls",
          "model_name": "HBoxModel",
          "model_module_version": "1.5.0",
          "state": {
            "_dom_classes": [],
            "_model_module": "@jupyter-widgets/controls",
            "_model_module_version": "1.5.0",
            "_model_name": "HBoxModel",
            "_view_count": null,
            "_view_module": "@jupyter-widgets/controls",
            "_view_module_version": "1.5.0",
            "_view_name": "HBoxView",
            "box_style": "",
            "children": [
              "IPY_MODEL_3f8e5e404bc64cdf8ca7f324bf69ff40",
              "IPY_MODEL_825620024416459c895f69ea3b1e4ed5",
              "IPY_MODEL_a25bae76075b4b22ba28830497eefc25"
            ],
            "layout": "IPY_MODEL_e87f8876f64c4c638c3125348ec8d705"
          }
        },
        "3f8e5e404bc64cdf8ca7f324bf69ff40": {
          "model_module": "@jupyter-widgets/controls",
          "model_name": "HTMLModel",
          "model_module_version": "1.5.0",
          "state": {
            "_dom_classes": [],
            "_model_module": "@jupyter-widgets/controls",
            "_model_module_version": "1.5.0",
            "_model_name": "HTMLModel",
            "_view_count": null,
            "_view_module": "@jupyter-widgets/controls",
            "_view_module_version": "1.5.0",
            "_view_name": "HTMLView",
            "description": "",
            "description_tooltip": null,
            "layout": "IPY_MODEL_3fb5c7e30da948dbaf7d8ac9ef5d1531",
            "placeholder": "​",
            "style": "IPY_MODEL_210f052e9cf246009b0096b6fe4f7229",
            "value": "special_tokens_map.json: 100%"
          }
        },
        "825620024416459c895f69ea3b1e4ed5": {
          "model_module": "@jupyter-widgets/controls",
          "model_name": "FloatProgressModel",
          "model_module_version": "1.5.0",
          "state": {
            "_dom_classes": [],
            "_model_module": "@jupyter-widgets/controls",
            "_model_module_version": "1.5.0",
            "_model_name": "FloatProgressModel",
            "_view_count": null,
            "_view_module": "@jupyter-widgets/controls",
            "_view_module_version": "1.5.0",
            "_view_name": "ProgressView",
            "bar_style": "success",
            "description": "",
            "description_tooltip": null,
            "layout": "IPY_MODEL_2f368302bdc44a9cabbc84b5b7f0e9cc",
            "max": 112,
            "min": 0,
            "orientation": "horizontal",
            "style": "IPY_MODEL_f6e1ce21eb2347e1a6b62ccc5e74b0f3",
            "value": 112
          }
        },
        "a25bae76075b4b22ba28830497eefc25": {
          "model_module": "@jupyter-widgets/controls",
          "model_name": "HTMLModel",
          "model_module_version": "1.5.0",
          "state": {
            "_dom_classes": [],
            "_model_module": "@jupyter-widgets/controls",
            "_model_module_version": "1.5.0",
            "_model_name": "HTMLModel",
            "_view_count": null,
            "_view_module": "@jupyter-widgets/controls",
            "_view_module_version": "1.5.0",
            "_view_name": "HTMLView",
            "description": "",
            "description_tooltip": null,
            "layout": "IPY_MODEL_e6635c67ce4348708712086dfd16c472",
            "placeholder": "​",
            "style": "IPY_MODEL_daa8ec1c350248c0ae855386b4025911",
            "value": " 112/112 [00:00&lt;00:00, 10.7kB/s]"
          }
        },
        "e87f8876f64c4c638c3125348ec8d705": {
          "model_module": "@jupyter-widgets/base",
          "model_name": "LayoutModel",
          "model_module_version": "1.2.0",
          "state": {
            "_model_module": "@jupyter-widgets/base",
            "_model_module_version": "1.2.0",
            "_model_name": "LayoutModel",
            "_view_count": null,
            "_view_module": "@jupyter-widgets/base",
            "_view_module_version": "1.2.0",
            "_view_name": "LayoutView",
            "align_content": null,
            "align_items": null,
            "align_self": null,
            "border": null,
            "bottom": null,
            "display": null,
            "flex": null,
            "flex_flow": null,
            "grid_area": null,
            "grid_auto_columns": null,
            "grid_auto_flow": null,
            "grid_auto_rows": null,
            "grid_column": null,
            "grid_gap": null,
            "grid_row": null,
            "grid_template_areas": null,
            "grid_template_columns": null,
            "grid_template_rows": null,
            "height": null,
            "justify_content": null,
            "justify_items": null,
            "left": null,
            "margin": null,
            "max_height": null,
            "max_width": null,
            "min_height": null,
            "min_width": null,
            "object_fit": null,
            "object_position": null,
            "order": null,
            "overflow": null,
            "overflow_x": null,
            "overflow_y": null,
            "padding": null,
            "right": null,
            "top": null,
            "visibility": null,
            "width": null
          }
        },
        "3fb5c7e30da948dbaf7d8ac9ef5d1531": {
          "model_module": "@jupyter-widgets/base",
          "model_name": "LayoutModel",
          "model_module_version": "1.2.0",
          "state": {
            "_model_module": "@jupyter-widgets/base",
            "_model_module_version": "1.2.0",
            "_model_name": "LayoutModel",
            "_view_count": null,
            "_view_module": "@jupyter-widgets/base",
            "_view_module_version": "1.2.0",
            "_view_name": "LayoutView",
            "align_content": null,
            "align_items": null,
            "align_self": null,
            "border": null,
            "bottom": null,
            "display": null,
            "flex": null,
            "flex_flow": null,
            "grid_area": null,
            "grid_auto_columns": null,
            "grid_auto_flow": null,
            "grid_auto_rows": null,
            "grid_column": null,
            "grid_gap": null,
            "grid_row": null,
            "grid_template_areas": null,
            "grid_template_columns": null,
            "grid_template_rows": null,
            "height": null,
            "justify_content": null,
            "justify_items": null,
            "left": null,
            "margin": null,
            "max_height": null,
            "max_width": null,
            "min_height": null,
            "min_width": null,
            "object_fit": null,
            "object_position": null,
            "order": null,
            "overflow": null,
            "overflow_x": null,
            "overflow_y": null,
            "padding": null,
            "right": null,
            "top": null,
            "visibility": null,
            "width": null
          }
        },
        "210f052e9cf246009b0096b6fe4f7229": {
          "model_module": "@jupyter-widgets/controls",
          "model_name": "DescriptionStyleModel",
          "model_module_version": "1.5.0",
          "state": {
            "_model_module": "@jupyter-widgets/controls",
            "_model_module_version": "1.5.0",
            "_model_name": "DescriptionStyleModel",
            "_view_count": null,
            "_view_module": "@jupyter-widgets/base",
            "_view_module_version": "1.2.0",
            "_view_name": "StyleView",
            "description_width": ""
          }
        },
        "2f368302bdc44a9cabbc84b5b7f0e9cc": {
          "model_module": "@jupyter-widgets/base",
          "model_name": "LayoutModel",
          "model_module_version": "1.2.0",
          "state": {
            "_model_module": "@jupyter-widgets/base",
            "_model_module_version": "1.2.0",
            "_model_name": "LayoutModel",
            "_view_count": null,
            "_view_module": "@jupyter-widgets/base",
            "_view_module_version": "1.2.0",
            "_view_name": "LayoutView",
            "align_content": null,
            "align_items": null,
            "align_self": null,
            "border": null,
            "bottom": null,
            "display": null,
            "flex": null,
            "flex_flow": null,
            "grid_area": null,
            "grid_auto_columns": null,
            "grid_auto_flow": null,
            "grid_auto_rows": null,
            "grid_column": null,
            "grid_gap": null,
            "grid_row": null,
            "grid_template_areas": null,
            "grid_template_columns": null,
            "grid_template_rows": null,
            "height": null,
            "justify_content": null,
            "justify_items": null,
            "left": null,
            "margin": null,
            "max_height": null,
            "max_width": null,
            "min_height": null,
            "min_width": null,
            "object_fit": null,
            "object_position": null,
            "order": null,
            "overflow": null,
            "overflow_x": null,
            "overflow_y": null,
            "padding": null,
            "right": null,
            "top": null,
            "visibility": null,
            "width": null
          }
        },
        "f6e1ce21eb2347e1a6b62ccc5e74b0f3": {
          "model_module": "@jupyter-widgets/controls",
          "model_name": "ProgressStyleModel",
          "model_module_version": "1.5.0",
          "state": {
            "_model_module": "@jupyter-widgets/controls",
            "_model_module_version": "1.5.0",
            "_model_name": "ProgressStyleModel",
            "_view_count": null,
            "_view_module": "@jupyter-widgets/base",
            "_view_module_version": "1.2.0",
            "_view_name": "StyleView",
            "bar_color": null,
            "description_width": ""
          }
        },
        "e6635c67ce4348708712086dfd16c472": {
          "model_module": "@jupyter-widgets/base",
          "model_name": "LayoutModel",
          "model_module_version": "1.2.0",
          "state": {
            "_model_module": "@jupyter-widgets/base",
            "_model_module_version": "1.2.0",
            "_model_name": "LayoutModel",
            "_view_count": null,
            "_view_module": "@jupyter-widgets/base",
            "_view_module_version": "1.2.0",
            "_view_name": "LayoutView",
            "align_content": null,
            "align_items": null,
            "align_self": null,
            "border": null,
            "bottom": null,
            "display": null,
            "flex": null,
            "flex_flow": null,
            "grid_area": null,
            "grid_auto_columns": null,
            "grid_auto_flow": null,
            "grid_auto_rows": null,
            "grid_column": null,
            "grid_gap": null,
            "grid_row": null,
            "grid_template_areas": null,
            "grid_template_columns": null,
            "grid_template_rows": null,
            "height": null,
            "justify_content": null,
            "justify_items": null,
            "left": null,
            "margin": null,
            "max_height": null,
            "max_width": null,
            "min_height": null,
            "min_width": null,
            "object_fit": null,
            "object_position": null,
            "order": null,
            "overflow": null,
            "overflow_x": null,
            "overflow_y": null,
            "padding": null,
            "right": null,
            "top": null,
            "visibility": null,
            "width": null
          }
        },
        "daa8ec1c350248c0ae855386b4025911": {
          "model_module": "@jupyter-widgets/controls",
          "model_name": "DescriptionStyleModel",
          "model_module_version": "1.5.0",
          "state": {
            "_model_module": "@jupyter-widgets/controls",
            "_model_module_version": "1.5.0",
            "_model_name": "DescriptionStyleModel",
            "_view_count": null,
            "_view_module": "@jupyter-widgets/base",
            "_view_module_version": "1.2.0",
            "_view_name": "StyleView",
            "description_width": ""
          }
        }
      }
    }
  },
  "cells": [
    {
      "cell_type": "markdown",
      "source": [
        "#**Installations, Setups**"
      ],
      "metadata": {
        "id": "_ihXQiwJQOTT"
      }
    },
    {
      "cell_type": "code",
      "source": [
        "#java installation\n",
        "!apt-get update -q\n",
        "!apt-get install -y openjdk-21-jdk -q\n",
        "!update-alternatives --install /usr/bin/java java /usr/lib/jvm/java-21-openjdk-amd64/bin/java 1\n",
        "!update-alternatives --install /usr/bin/javac javac /usr/lib/jvm/java-21-openjdk-amd64/bin/javac 1\n",
        "!update-alternatives --set java /usr/lib/jvm/java-21-openjdk-amd64/bin/java\n",
        "!update-alternatives --set javac /usr/lib/jvm/java-21-openjdk-amd64/bin/javac"
      ],
      "metadata": {
        "colab": {
          "base_uri": "https://localhost:8080/"
        },
        "id": "SajCppy1H2Zi",
        "outputId": "1f01157f-506e-4973-fb34-494a2ca5fd87"
      },
      "execution_count": null,
      "outputs": [
        {
          "output_type": "stream",
          "name": "stdout",
          "text": [
            "Get:1 http://security.ubuntu.com/ubuntu jammy-security InRelease [129 kB]\n",
            "Get:2 https://cloud.r-project.org/bin/linux/ubuntu jammy-cran40/ InRelease [3,626 B]\n",
            "Get:3 https://r2u.stat.illinois.edu/ubuntu jammy InRelease [6,555 B]\n",
            "Hit:4 http://archive.ubuntu.com/ubuntu jammy InRelease\n",
            "Get:5 http://archive.ubuntu.com/ubuntu jammy-updates InRelease [128 kB]\n",
            "Hit:6 https://ppa.launchpadcontent.net/deadsnakes/ppa/ubuntu jammy InRelease\n",
            "Hit:7 https://ppa.launchpadcontent.net/graphics-drivers/ppa/ubuntu jammy InRelease\n",
            "Get:8 https://r2u.stat.illinois.edu/ubuntu jammy/main amd64 Packages [2,648 kB]\n",
            "Hit:9 https://ppa.launchpadcontent.net/ubuntugis/ppa/ubuntu jammy InRelease\n",
            "Get:10 https://developer.download.nvidia.com/compute/cuda/repos/ubuntu2204/x86_64  InRelease [1,581 B]\n",
            "Get:11 http://archive.ubuntu.com/ubuntu jammy-backports InRelease [127 kB]\n",
            "Get:12 https://r2u.stat.illinois.edu/ubuntu jammy/main all Packages [8,627 kB]\n",
            "Get:13 https://developer.download.nvidia.com/compute/cuda/repos/ubuntu2204/x86_64  Packages [1,285 kB]\n",
            "Get:14 http://archive.ubuntu.com/ubuntu jammy-updates/universe amd64 Packages [1,520 kB]\n",
            "Get:15 http://archive.ubuntu.com/ubuntu jammy-updates/main amd64 Packages [2,861 kB]\n",
            "Fetched 17.3 MB in 2s (7,300 kB/s)\n",
            "Reading package lists...\n",
            "W: Skipping acquire of configured file 'main/source/Sources' as repository 'https://r2u.stat.illinois.edu/ubuntu jammy InRelease' does not seem to provide it (sources.list entry misspelt?)\n",
            "Reading package lists...\n",
            "Building dependency tree...\n",
            "Reading state information...\n",
            "The following additional packages will be installed:\n",
            "  fonts-dejavu-core fonts-dejavu-extra libatk-wrapper-java libatk-wrapper-java-jni libfontenc1\n",
            "  libice-dev libsm-dev libxkbfile1 libxt-dev libxtst6 libxxf86dga1 openjdk-21-jdk-headless\n",
            "  openjdk-21-jre openjdk-21-jre-headless x11-utils\n",
            "Suggested packages:\n",
            "  libice-doc libsm-doc libxt-doc openjdk-21-demo openjdk-21-source visualvm libnss-mdns\n",
            "  fonts-ipafont-gothic fonts-ipafont-mincho fonts-wqy-microhei | fonts-wqy-zenhei fonts-indic\n",
            "  mesa-utils\n",
            "The following NEW packages will be installed:\n",
            "  fonts-dejavu-core fonts-dejavu-extra libatk-wrapper-java libatk-wrapper-java-jni libfontenc1\n",
            "  libice-dev libsm-dev libxkbfile1 libxt-dev libxtst6 libxxf86dga1 openjdk-21-jdk\n",
            "  openjdk-21-jdk-headless openjdk-21-jre openjdk-21-jre-headless x11-utils\n",
            "0 upgraded, 16 newly installed, 0 to remove and 52 not upgraded.\n",
            "Need to get 137 MB of archives.\n",
            "After this operation, 317 MB of additional disk space will be used.\n",
            "Get:1 http://archive.ubuntu.com/ubuntu jammy/main amd64 fonts-dejavu-core all 2.37-2build1 [1,041 kB]\n",
            "Get:2 http://archive.ubuntu.com/ubuntu jammy/main amd64 fonts-dejavu-extra all 2.37-2build1 [2,041 kB]\n",
            "Get:3 http://archive.ubuntu.com/ubuntu jammy/main amd64 libfontenc1 amd64 1:1.1.4-1build3 [14.7 kB]\n",
            "Get:4 http://archive.ubuntu.com/ubuntu jammy/main amd64 libxkbfile1 amd64 1:1.1.0-1build3 [71.8 kB]\n",
            "Get:5 http://archive.ubuntu.com/ubuntu jammy/main amd64 libxtst6 amd64 2:1.2.3-1build4 [13.4 kB]\n",
            "Get:6 http://archive.ubuntu.com/ubuntu jammy/main amd64 libxxf86dga1 amd64 2:1.1.5-0ubuntu3 [12.6 kB]\n",
            "Get:7 http://archive.ubuntu.com/ubuntu jammy/main amd64 x11-utils amd64 7.7+5build2 [206 kB]\n",
            "Get:8 http://archive.ubuntu.com/ubuntu jammy/main amd64 libatk-wrapper-java all 0.38.0-5build1 [53.1 kB]\n",
            "Get:9 http://archive.ubuntu.com/ubuntu jammy/main amd64 libatk-wrapper-java-jni amd64 0.38.0-5build1 [49.0 kB]\n",
            "Get:10 http://archive.ubuntu.com/ubuntu jammy/main amd64 libice-dev amd64 2:1.0.10-1build2 [51.4 kB]\n",
            "Get:11 http://archive.ubuntu.com/ubuntu jammy/main amd64 libsm-dev amd64 2:1.2.3-1build2 [18.1 kB]\n",
            "Get:12 http://archive.ubuntu.com/ubuntu jammy/main amd64 libxt-dev amd64 1:1.2.1-1 [396 kB]\n",
            "Get:13 http://archive.ubuntu.com/ubuntu jammy-updates/universe amd64 openjdk-21-jre-headless amd64 21.0.5+11-1ubuntu1~22.04 [46.8 MB]\n",
            "Get:14 http://archive.ubuntu.com/ubuntu jammy-updates/universe amd64 openjdk-21-jre amd64 21.0.5+11-1ubuntu1~22.04 [236 kB]\n",
            "Get:15 http://archive.ubuntu.com/ubuntu jammy-updates/universe amd64 openjdk-21-jdk-headless amd64 21.0.5+11-1ubuntu1~22.04 [82.7 MB]\n",
            "Get:16 http://archive.ubuntu.com/ubuntu jammy-updates/universe amd64 openjdk-21-jdk amd64 21.0.5+11-1ubuntu1~22.04 [3,424 kB]\n",
            "Fetched 137 MB in 5s (28.0 MB/s)\n",
            "Selecting previously unselected package fonts-dejavu-core.\n",
            "(Reading database ... 124574 files and directories currently installed.)\n",
            "Preparing to unpack .../00-fonts-dejavu-core_2.37-2build1_all.deb ...\n",
            "Unpacking fonts-dejavu-core (2.37-2build1) ...\n",
            "Selecting previously unselected package fonts-dejavu-extra.\n",
            "Preparing to unpack .../01-fonts-dejavu-extra_2.37-2build1_all.deb ...\n",
            "Unpacking fonts-dejavu-extra (2.37-2build1) ...\n",
            "Selecting previously unselected package libfontenc1:amd64.\n",
            "Preparing to unpack .../02-libfontenc1_1%3a1.1.4-1build3_amd64.deb ...\n",
            "Unpacking libfontenc1:amd64 (1:1.1.4-1build3) ...\n",
            "Selecting previously unselected package libxkbfile1:amd64.\n",
            "Preparing to unpack .../03-libxkbfile1_1%3a1.1.0-1build3_amd64.deb ...\n",
            "Unpacking libxkbfile1:amd64 (1:1.1.0-1build3) ...\n",
            "Selecting previously unselected package libxtst6:amd64.\n",
            "Preparing to unpack .../04-libxtst6_2%3a1.2.3-1build4_amd64.deb ...\n",
            "Unpacking libxtst6:amd64 (2:1.2.3-1build4) ...\n",
            "Selecting previously unselected package libxxf86dga1:amd64.\n",
            "Preparing to unpack .../05-libxxf86dga1_2%3a1.1.5-0ubuntu3_amd64.deb ...\n",
            "Unpacking libxxf86dga1:amd64 (2:1.1.5-0ubuntu3) ...\n",
            "Selecting previously unselected package x11-utils.\n",
            "Preparing to unpack .../06-x11-utils_7.7+5build2_amd64.deb ...\n",
            "Unpacking x11-utils (7.7+5build2) ...\n",
            "Selecting previously unselected package libatk-wrapper-java.\n",
            "Preparing to unpack .../07-libatk-wrapper-java_0.38.0-5build1_all.deb ...\n",
            "Unpacking libatk-wrapper-java (0.38.0-5build1) ...\n",
            "Selecting previously unselected package libatk-wrapper-java-jni:amd64.\n",
            "Preparing to unpack .../08-libatk-wrapper-java-jni_0.38.0-5build1_amd64.deb ...\n",
            "Unpacking libatk-wrapper-java-jni:amd64 (0.38.0-5build1) ...\n",
            "Selecting previously unselected package libice-dev:amd64.\n",
            "Preparing to unpack .../09-libice-dev_2%3a1.0.10-1build2_amd64.deb ...\n",
            "Unpacking libice-dev:amd64 (2:1.0.10-1build2) ...\n",
            "Selecting previously unselected package libsm-dev:amd64.\n",
            "Preparing to unpack .../10-libsm-dev_2%3a1.2.3-1build2_amd64.deb ...\n",
            "Unpacking libsm-dev:amd64 (2:1.2.3-1build2) ...\n",
            "Selecting previously unselected package libxt-dev:amd64.\n",
            "Preparing to unpack .../11-libxt-dev_1%3a1.2.1-1_amd64.deb ...\n",
            "Unpacking libxt-dev:amd64 (1:1.2.1-1) ...\n",
            "Selecting previously unselected package openjdk-21-jre-headless:amd64.\n",
            "Preparing to unpack .../12-openjdk-21-jre-headless_21.0.5+11-1ubuntu1~22.04_amd64.deb ...\n",
            "Unpacking openjdk-21-jre-headless:amd64 (21.0.5+11-1ubuntu1~22.04) ...\n",
            "Selecting previously unselected package openjdk-21-jre:amd64.\n",
            "Preparing to unpack .../13-openjdk-21-jre_21.0.5+11-1ubuntu1~22.04_amd64.deb ...\n",
            "Unpacking openjdk-21-jre:amd64 (21.0.5+11-1ubuntu1~22.04) ...\n",
            "Selecting previously unselected package openjdk-21-jdk-headless:amd64.\n",
            "Preparing to unpack .../14-openjdk-21-jdk-headless_21.0.5+11-1ubuntu1~22.04_amd64.deb ...\n",
            "Unpacking openjdk-21-jdk-headless:amd64 (21.0.5+11-1ubuntu1~22.04) ...\n",
            "Selecting previously unselected package openjdk-21-jdk:amd64.\n",
            "Preparing to unpack .../15-openjdk-21-jdk_21.0.5+11-1ubuntu1~22.04_amd64.deb ...\n",
            "Unpacking openjdk-21-jdk:amd64 (21.0.5+11-1ubuntu1~22.04) ...\n",
            "Setting up openjdk-21-jre-headless:amd64 (21.0.5+11-1ubuntu1~22.04) ...\n",
            "update-alternatives: using /usr/lib/jvm/java-21-openjdk-amd64/bin/java to provide /usr/bin/java (java) in auto mode\n",
            "update-alternatives: using /usr/lib/jvm/java-21-openjdk-amd64/bin/jpackage to provide /usr/bin/jpackage (jpackage) in auto mode\n",
            "update-alternatives: using /usr/lib/jvm/java-21-openjdk-amd64/bin/keytool to provide /usr/bin/keytool (keytool) in auto mode\n",
            "update-alternatives: using /usr/lib/jvm/java-21-openjdk-amd64/bin/rmiregistry to provide /usr/bin/rmiregistry (rmiregistry) in auto mode\n",
            "update-alternatives: using /usr/lib/jvm/java-21-openjdk-amd64/lib/jexec to provide /usr/bin/jexec (jexec) in auto mode\n",
            "Setting up libice-dev:amd64 (2:1.0.10-1build2) ...\n",
            "Setting up libsm-dev:amd64 (2:1.2.3-1build2) ...\n",
            "Setting up libxtst6:amd64 (2:1.2.3-1build4) ...\n",
            "Setting up libxxf86dga1:amd64 (2:1.1.5-0ubuntu3) ...\n",
            "Setting up openjdk-21-jre:amd64 (21.0.5+11-1ubuntu1~22.04) ...\n",
            "Setting up libfontenc1:amd64 (1:1.1.4-1build3) ...\n",
            "Setting up libxt-dev:amd64 (1:1.2.1-1) ...\n",
            "Setting up fonts-dejavu-core (2.37-2build1) ...\n",
            "Setting up fonts-dejavu-extra (2.37-2build1) ...\n",
            "Setting up libxkbfile1:amd64 (1:1.1.0-1build3) ...\n",
            "Setting up openjdk-21-jdk-headless:amd64 (21.0.5+11-1ubuntu1~22.04) ...\n",
            "update-alternatives: using /usr/lib/jvm/java-21-openjdk-amd64/bin/jar to provide /usr/bin/jar (jar) in auto mode\n",
            "update-alternatives: using /usr/lib/jvm/java-21-openjdk-amd64/bin/jarsigner to provide /usr/bin/jarsigner (jarsigner) in auto mode\n",
            "update-alternatives: using /usr/lib/jvm/java-21-openjdk-amd64/bin/javac to provide /usr/bin/javac (javac) in auto mode\n",
            "update-alternatives: using /usr/lib/jvm/java-21-openjdk-amd64/bin/javadoc to provide /usr/bin/javadoc (javadoc) in auto mode\n",
            "update-alternatives: using /usr/lib/jvm/java-21-openjdk-amd64/bin/javap to provide /usr/bin/javap (javap) in auto mode\n",
            "update-alternatives: using /usr/lib/jvm/java-21-openjdk-amd64/bin/jcmd to provide /usr/bin/jcmd (jcmd) in auto mode\n",
            "update-alternatives: using /usr/lib/jvm/java-21-openjdk-amd64/bin/jdb to provide /usr/bin/jdb (jdb) in auto mode\n",
            "update-alternatives: using /usr/lib/jvm/java-21-openjdk-amd64/bin/jdeprscan to provide /usr/bin/jdeprscan (jdeprscan) in auto mode\n",
            "update-alternatives: using /usr/lib/jvm/java-21-openjdk-amd64/bin/jdeps to provide /usr/bin/jdeps (jdeps) in auto mode\n",
            "update-alternatives: using /usr/lib/jvm/java-21-openjdk-amd64/bin/jfr to provide /usr/bin/jfr (jfr) in auto mode\n",
            "update-alternatives: using /usr/lib/jvm/java-21-openjdk-amd64/bin/jimage to provide /usr/bin/jimage (jimage) in auto mode\n",
            "update-alternatives: using /usr/lib/jvm/java-21-openjdk-amd64/bin/jinfo to provide /usr/bin/jinfo (jinfo) in auto mode\n",
            "update-alternatives: using /usr/lib/jvm/java-21-openjdk-amd64/bin/jlink to provide /usr/bin/jlink (jlink) in auto mode\n",
            "update-alternatives: using /usr/lib/jvm/java-21-openjdk-amd64/bin/jmap to provide /usr/bin/jmap (jmap) in auto mode\n",
            "update-alternatives: using /usr/lib/jvm/java-21-openjdk-amd64/bin/jmod to provide /usr/bin/jmod (jmod) in auto mode\n",
            "update-alternatives: using /usr/lib/jvm/java-21-openjdk-amd64/bin/jps to provide /usr/bin/jps (jps) in auto mode\n",
            "update-alternatives: using /usr/lib/jvm/java-21-openjdk-amd64/bin/jrunscript to provide /usr/bin/jrunscript (jrunscript) in auto mode\n",
            "update-alternatives: using /usr/lib/jvm/java-21-openjdk-amd64/bin/jshell to provide /usr/bin/jshell (jshell) in auto mode\n",
            "update-alternatives: using /usr/lib/jvm/java-21-openjdk-amd64/bin/jstack to provide /usr/bin/jstack (jstack) in auto mode\n",
            "update-alternatives: using /usr/lib/jvm/java-21-openjdk-amd64/bin/jstat to provide /usr/bin/jstat (jstat) in auto mode\n",
            "update-alternatives: using /usr/lib/jvm/java-21-openjdk-amd64/bin/jstatd to provide /usr/bin/jstatd (jstatd) in auto mode\n",
            "update-alternatives: using /usr/lib/jvm/java-21-openjdk-amd64/bin/jwebserver to provide /usr/bin/jwebserver (jwebserver) in auto mode\n",
            "update-alternatives: using /usr/lib/jvm/java-21-openjdk-amd64/bin/serialver to provide /usr/bin/serialver (serialver) in auto mode\n",
            "update-alternatives: using /usr/lib/jvm/java-21-openjdk-amd64/bin/jhsdb to provide /usr/bin/jhsdb (jhsdb) in auto mode\n",
            "Setting up openjdk-21-jdk:amd64 (21.0.5+11-1ubuntu1~22.04) ...\n",
            "update-alternatives: using /usr/lib/jvm/java-21-openjdk-amd64/bin/jconsole to provide /usr/bin/jconsole (jconsole) in auto mode\n",
            "Setting up x11-utils (7.7+5build2) ...\n",
            "Setting up libatk-wrapper-java (0.38.0-5build1) ...\n",
            "Setting up libatk-wrapper-java-jni:amd64 (0.38.0-5build1) ...\n",
            "Processing triggers for fontconfig (2.13.1-4.2ubuntu5) ...\n",
            "Processing triggers for hicolor-icon-theme (0.17-2) ...\n",
            "Processing triggers for libc-bin (2.35-0ubuntu3.4) ...\n",
            "/sbin/ldconfig.real: /usr/local/lib/libtcm.so.1 is not a symbolic link\n",
            "\n",
            "/sbin/ldconfig.real: /usr/local/lib/libur_adapter_opencl.so.0 is not a symbolic link\n",
            "\n",
            "/sbin/ldconfig.real: /usr/local/lib/libtcm_debug.so.1 is not a symbolic link\n",
            "\n",
            "/sbin/ldconfig.real: /usr/local/lib/libumf.so.0 is not a symbolic link\n",
            "\n",
            "/sbin/ldconfig.real: /usr/local/lib/libtbbbind_2_5.so.3 is not a symbolic link\n",
            "\n",
            "/sbin/ldconfig.real: /usr/local/lib/libtbbbind.so.3 is not a symbolic link\n",
            "\n",
            "/sbin/ldconfig.real: /usr/local/lib/libtbbmalloc_proxy.so.2 is not a symbolic link\n",
            "\n",
            "/sbin/ldconfig.real: /usr/local/lib/libhwloc.so.15 is not a symbolic link\n",
            "\n",
            "/sbin/ldconfig.real: /usr/local/lib/libur_adapter_level_zero.so.0 is not a symbolic link\n",
            "\n",
            "/sbin/ldconfig.real: /usr/local/lib/libtbb.so.12 is not a symbolic link\n",
            "\n",
            "/sbin/ldconfig.real: /usr/local/lib/libtbbmalloc.so.2 is not a symbolic link\n",
            "\n",
            "/sbin/ldconfig.real: /usr/local/lib/libtbbbind_2_0.so.3 is not a symbolic link\n",
            "\n",
            "/sbin/ldconfig.real: /usr/local/lib/libur_loader.so.0 is not a symbolic link\n",
            "\n",
            "Processing triggers for man-db (2.10.2-1) ...\n",
            "Processing triggers for mailcap (3.70+nmu1ubuntu1) ...\n",
            "update-alternatives: using /usr/lib/jvm/java-11-openjdk-amd64/bin/java to provide /usr/bin/java (java) in auto mode\n",
            "update-alternatives: using /usr/lib/jvm/java-11-openjdk-amd64/bin/javac to provide /usr/bin/javac (javac) in auto mode\n",
            "update-alternatives: using /usr/lib/jvm/java-21-openjdk-amd64/bin/java to provide /usr/bin/java (java) in manual mode\n",
            "update-alternatives: using /usr/lib/jvm/java-21-openjdk-amd64/bin/javac to provide /usr/bin/javac (javac) in manual mode\n"
          ]
        }
      ]
    },
    {
      "cell_type": "code",
      "source": [
        "# check java version\n",
        "!java -version"
      ],
      "metadata": {
        "colab": {
          "base_uri": "https://localhost:8080/"
        },
        "id": "KlwMfTMXH4TS",
        "outputId": "81834a31-522f-4c39-d94e-4fa21b4f4444"
      },
      "execution_count": null,
      "outputs": [
        {
          "output_type": "stream",
          "name": "stdout",
          "text": [
            "openjdk version \"21.0.5\" 2024-10-15\n",
            "OpenJDK Runtime Environment (build 21.0.5+11-Ubuntu-1ubuntu122.04)\n",
            "OpenJDK 64-Bit Server VM (build 21.0.5+11-Ubuntu-1ubuntu122.04, mixed mode, sharing)\n"
          ]
        }
      ]
    },
    {
      "cell_type": "code",
      "source": [
        "# install torch\n",
        "!pip install -q torch torchvision torchaudio\n",
        "!pip install -q sentence_transformers\n",
        "#install Faiss (for vector DB - later on this course)\n",
        "!pip install -q faiss-cpu --no-cache\n",
        "!pip uninstall -q openai -y\n",
        "# install Pyserini\n",
        "!pip install -q pyserini==0.36.0"
      ],
      "metadata": {
        "id": "d666zt53H5gP",
        "colab": {
          "base_uri": "https://localhost:8080/"
        },
        "outputId": "efdcf58f-efa1-4059-c893-87df5ffa4814"
      },
      "execution_count": null,
      "outputs": [
        {
          "output_type": "stream",
          "name": "stdout",
          "text": [
            "\u001b[2K   \u001b[90m━━━━━━━━━━━━━━━━━━━━━━━━━━━━━━━━━━━━━━━━\u001b[0m \u001b[32m27.5/27.5 MB\u001b[0m \u001b[31m304.7 MB/s\u001b[0m eta \u001b[36m0:00:00\u001b[0m\n",
            "\u001b[2K     \u001b[90m━━━━━━━━━━━━━━━━━━━━━━━━━━━━━━━━━━━━━━━━\u001b[0m \u001b[32m188.7/188.7 kB\u001b[0m \u001b[31m4.5 MB/s\u001b[0m eta \u001b[36m0:00:00\u001b[0m\n",
            "\u001b[?25h  Preparing metadata (setup.py) ... \u001b[?25l\u001b[?25hdone\n",
            "\u001b[2K     \u001b[90m━━━━━━━━━━━━━━━━━━━━━━━━━━━━━━━━━━━━━━━━\u001b[0m \u001b[32m182.4/182.4 kB\u001b[0m \u001b[31m16.4 MB/s\u001b[0m eta \u001b[36m0:00:00\u001b[0m\n",
            "\u001b[?25h  Preparing metadata (setup.py) ... \u001b[?25l\u001b[?25hdone\n",
            "\u001b[2K   \u001b[90m━━━━━━━━━━━━━━━━━━━━━━━━━━━━━━━━━━━━━━━━\u001b[0m \u001b[32m182.9/182.9 MB\u001b[0m \u001b[31m10.4 MB/s\u001b[0m eta \u001b[36m0:00:00\u001b[0m\n",
            "\u001b[2K   \u001b[90m━━━━━━━━━━━━━━━━━━━━━━━━━━━━━━━━━━━━━━━━\u001b[0m \u001b[32m13.3/13.3 MB\u001b[0m \u001b[31m112.2 MB/s\u001b[0m eta \u001b[36m0:00:00\u001b[0m\n",
            "\u001b[2K   \u001b[90m━━━━━━━━━━━━━━━━━━━━━━━━━━━━━━━━━━━━━━━━\u001b[0m \u001b[32m456.1/456.1 kB\u001b[0m \u001b[31m34.7 MB/s\u001b[0m eta \u001b[36m0:00:00\u001b[0m\n",
            "\u001b[2K   \u001b[90m━━━━━━━━━━━━━━━━━━━━━━━━━━━━━━━━━━━━━━━━\u001b[0m \u001b[32m1.6/1.6 MB\u001b[0m \u001b[31m78.3 MB/s\u001b[0m eta \u001b[36m0:00:00\u001b[0m\n",
            "\u001b[2K   \u001b[90m━━━━━━━━━━━━━━━━━━━━━━━━━━━━━━━━━━━━━━━━\u001b[0m \u001b[32m1.2/1.2 MB\u001b[0m \u001b[31m66.4 MB/s\u001b[0m eta \u001b[36m0:00:00\u001b[0m\n",
            "\u001b[2K   \u001b[90m━━━━━━━━━━━━━━━━━━━━━━━━━━━━━━━━━━━━━━━━\u001b[0m \u001b[32m46.0/46.0 kB\u001b[0m \u001b[31m4.2 MB/s\u001b[0m eta \u001b[36m0:00:00\u001b[0m\n",
            "\u001b[2K   \u001b[90m━━━━━━━━━━━━━━━━━━━━━━━━━━━━━━━━━━━━━━━━\u001b[0m \u001b[32m86.8/86.8 kB\u001b[0m \u001b[31m8.2 MB/s\u001b[0m eta \u001b[36m0:00:00\u001b[0m\n",
            "\u001b[?25h  Building wheel for nmslib (setup.py) ... \u001b[?25l\u001b[?25hdone\n"
          ]
        }
      ]
    },
    {
      "cell_type": "code",
      "source": [
        "from pyserini.search.lucene import LuceneSearcher\n",
        "from pyserini.index.lucene import IndexReader\n",
        "from pyserini.analysis import Analyzer, get_lucene_analyzer\n",
        "from pyserini.search import get_topics, get_topics_with_reader\n",
        "from pyserini.index.lucene import IndexReader\n",
        "import subprocess\n",
        "import itertools\n",
        "import zipfile\n",
        "import os\n",
        "from tqdm import tqdm\n",
        "from itertools import product\n",
        "\n",
        "from sentence_transformers import SentenceTransformer, CrossEncoder\n",
        "import torch.optim as optim\n",
        "import torch\n",
        "import torch.nn.functional as F\n",
        "import torch.nn as nn\n",
        "from torch.utils.data import Dataset, DataLoader, random_split\n",
        "\n",
        "from sklearn.metrics import average_precision_score\n",
        "from sklearn.metrics.pairwise import cosine_similarity\n",
        "\n",
        "import numpy as np\n",
        "import matplotlib.pyplot as plt\n",
        "import pandas as pd"
      ],
      "metadata": {
        "id": "EEcExVXeIkvO"
      },
      "execution_count": null,
      "outputs": []
    },
    {
      "cell_type": "code",
      "source": [
        "from google.colab import drive\n",
        "drive.mount('/content/drive')"
      ],
      "metadata": {
        "colab": {
          "base_uri": "https://localhost:8080/"
        },
        "id": "cAQK5fZsIudT",
        "outputId": "2371657e-dba6-4986-d3dd-97f319383bb5"
      },
      "execution_count": null,
      "outputs": [
        {
          "output_type": "stream",
          "name": "stdout",
          "text": [
            "Mounted at /content/drive\n"
          ]
        }
      ]
    },
    {
      "cell_type": "code",
      "source": [
        "device = torch.device(\"cuda\" if torch.cuda.is_available() else \"cpu\")\n",
        "print(device)"
      ],
      "metadata": {
        "colab": {
          "base_uri": "https://localhost:8080/"
        },
        "id": "-8m01mbDIubJ",
        "outputId": "d2646cb3-1206-4354-c785-51530a50e30d"
      },
      "execution_count": null,
      "outputs": [
        {
          "output_type": "stream",
          "name": "stdout",
          "text": [
            "cuda\n"
          ]
        }
      ]
    },
    {
      "cell_type": "code",
      "source": [
        "root_folder_path = \"/content/drive/MyDrive/TextRetrieval/FinalProject/\""
      ],
      "metadata": {
        "id": "0_1CuHpFIuY9"
      },
      "execution_count": null,
      "outputs": []
    },
    {
      "cell_type": "code",
      "source": [
        "def unzip_file(folder_path, file_path):\n",
        "  print(f\"unzipping {file_path}\")\n",
        "  zip_file_path = f'{folder_path}/{file_path}.zip'\n",
        "  extract_to_path = '/content/'\n",
        "\n",
        "  # Open the zip file and extract all contents\n",
        "  with zipfile.ZipFile(zip_file_path, 'r') as zip_ref:\n",
        "      zip_ref.extractall(extract_to_path)\n",
        "\n",
        "unzip_file(root_folder_path, \"RobustPyserini\")\n",
        "unzip_file(root_folder_path, \"raw_files\")"
      ],
      "metadata": {
        "colab": {
          "base_uri": "https://localhost:8080/"
        },
        "id": "A6FtzQKOJi6L",
        "outputId": "71dbcba9-856f-4294-c847-e004d9e05a49"
      },
      "execution_count": null,
      "outputs": [
        {
          "output_type": "stream",
          "name": "stdout",
          "text": [
            "unzipping RobustPyserini\n",
            "unzipping raw_files\n"
          ]
        }
      ]
    },
    {
      "cell_type": "markdown",
      "source": [
        "#**Index & Searcher Definition**"
      ],
      "metadata": {
        "id": "0ZpLzo7BQatT"
      }
    },
    {
      "cell_type": "markdown",
      "source": [
        "#**Data Preprocessing**"
      ],
      "metadata": {
        "id": "zQfa9ePFQ0Qm"
      }
    },
    {
      "cell_type": "code",
      "source": [
        "df = pd.read_csv(f\"{root_folder_path}/qrels_50_Queries\", sep=\" \", names=[\"query_id\", \"nothing\", \"doc_id\", \"relevance\"], usecols=[\"query_id\", \"doc_id\", \"relevance\"])"
      ],
      "metadata": {
        "id": "xteCYQtS6ZHQ"
      },
      "execution_count": null,
      "outputs": []
    },
    {
      "cell_type": "code",
      "source": [
        "df.head()"
      ],
      "metadata": {
        "colab": {
          "base_uri": "https://localhost:8080/",
          "height": 206
        },
        "id": "xwSIkt9P6a3w",
        "outputId": "1cf8a2c2-bb94-4204-b54d-d5b1fad12e16"
      },
      "execution_count": null,
      "outputs": [
        {
          "output_type": "execute_result",
          "data": {
            "text/plain": [
              "   query_id       doc_id  relevance\n",
              "0       301  FBIS3-10082          1\n",
              "1       301  FBIS3-10169          0\n",
              "2       301  FBIS3-10243          1\n",
              "3       301  FBIS3-10319          0\n",
              "4       301  FBIS3-10397          1"
            ],
            "text/html": [
              "\n",
              "  <div id=\"df-0576e1b7-ade8-4fbc-a415-19fe4a6f966f\" class=\"colab-df-container\">\n",
              "    <div>\n",
              "<style scoped>\n",
              "    .dataframe tbody tr th:only-of-type {\n",
              "        vertical-align: middle;\n",
              "    }\n",
              "\n",
              "    .dataframe tbody tr th {\n",
              "        vertical-align: top;\n",
              "    }\n",
              "\n",
              "    .dataframe thead th {\n",
              "        text-align: right;\n",
              "    }\n",
              "</style>\n",
              "<table border=\"1\" class=\"dataframe\">\n",
              "  <thead>\n",
              "    <tr style=\"text-align: right;\">\n",
              "      <th></th>\n",
              "      <th>query_id</th>\n",
              "      <th>doc_id</th>\n",
              "      <th>relevance</th>\n",
              "    </tr>\n",
              "  </thead>\n",
              "  <tbody>\n",
              "    <tr>\n",
              "      <th>0</th>\n",
              "      <td>301</td>\n",
              "      <td>FBIS3-10082</td>\n",
              "      <td>1</td>\n",
              "    </tr>\n",
              "    <tr>\n",
              "      <th>1</th>\n",
              "      <td>301</td>\n",
              "      <td>FBIS3-10169</td>\n",
              "      <td>0</td>\n",
              "    </tr>\n",
              "    <tr>\n",
              "      <th>2</th>\n",
              "      <td>301</td>\n",
              "      <td>FBIS3-10243</td>\n",
              "      <td>1</td>\n",
              "    </tr>\n",
              "    <tr>\n",
              "      <th>3</th>\n",
              "      <td>301</td>\n",
              "      <td>FBIS3-10319</td>\n",
              "      <td>0</td>\n",
              "    </tr>\n",
              "    <tr>\n",
              "      <th>4</th>\n",
              "      <td>301</td>\n",
              "      <td>FBIS3-10397</td>\n",
              "      <td>1</td>\n",
              "    </tr>\n",
              "  </tbody>\n",
              "</table>\n",
              "</div>\n",
              "    <div class=\"colab-df-buttons\">\n",
              "\n",
              "  <div class=\"colab-df-container\">\n",
              "    <button class=\"colab-df-convert\" onclick=\"convertToInteractive('df-0576e1b7-ade8-4fbc-a415-19fe4a6f966f')\"\n",
              "            title=\"Convert this dataframe to an interactive table.\"\n",
              "            style=\"display:none;\">\n",
              "\n",
              "  <svg xmlns=\"http://www.w3.org/2000/svg\" height=\"24px\" viewBox=\"0 -960 960 960\">\n",
              "    <path d=\"M120-120v-720h720v720H120Zm60-500h600v-160H180v160Zm220 220h160v-160H400v160Zm0 220h160v-160H400v160ZM180-400h160v-160H180v160Zm440 0h160v-160H620v160ZM180-180h160v-160H180v160Zm440 0h160v-160H620v160Z\"/>\n",
              "  </svg>\n",
              "    </button>\n",
              "\n",
              "  <style>\n",
              "    .colab-df-container {\n",
              "      display:flex;\n",
              "      gap: 12px;\n",
              "    }\n",
              "\n",
              "    .colab-df-convert {\n",
              "      background-color: #E8F0FE;\n",
              "      border: none;\n",
              "      border-radius: 50%;\n",
              "      cursor: pointer;\n",
              "      display: none;\n",
              "      fill: #1967D2;\n",
              "      height: 32px;\n",
              "      padding: 0 0 0 0;\n",
              "      width: 32px;\n",
              "    }\n",
              "\n",
              "    .colab-df-convert:hover {\n",
              "      background-color: #E2EBFA;\n",
              "      box-shadow: 0px 1px 2px rgba(60, 64, 67, 0.3), 0px 1px 3px 1px rgba(60, 64, 67, 0.15);\n",
              "      fill: #174EA6;\n",
              "    }\n",
              "\n",
              "    .colab-df-buttons div {\n",
              "      margin-bottom: 4px;\n",
              "    }\n",
              "\n",
              "    [theme=dark] .colab-df-convert {\n",
              "      background-color: #3B4455;\n",
              "      fill: #D2E3FC;\n",
              "    }\n",
              "\n",
              "    [theme=dark] .colab-df-convert:hover {\n",
              "      background-color: #434B5C;\n",
              "      box-shadow: 0px 1px 3px 1px rgba(0, 0, 0, 0.15);\n",
              "      filter: drop-shadow(0px 1px 2px rgba(0, 0, 0, 0.3));\n",
              "      fill: #FFFFFF;\n",
              "    }\n",
              "  </style>\n",
              "\n",
              "    <script>\n",
              "      const buttonEl =\n",
              "        document.querySelector('#df-0576e1b7-ade8-4fbc-a415-19fe4a6f966f button.colab-df-convert');\n",
              "      buttonEl.style.display =\n",
              "        google.colab.kernel.accessAllowed ? 'block' : 'none';\n",
              "\n",
              "      async function convertToInteractive(key) {\n",
              "        const element = document.querySelector('#df-0576e1b7-ade8-4fbc-a415-19fe4a6f966f');\n",
              "        const dataTable =\n",
              "          await google.colab.kernel.invokeFunction('convertToInteractive',\n",
              "                                                    [key], {});\n",
              "        if (!dataTable) return;\n",
              "\n",
              "        const docLinkHtml = 'Like what you see? Visit the ' +\n",
              "          '<a target=\"_blank\" href=https://colab.research.google.com/notebooks/data_table.ipynb>data table notebook</a>'\n",
              "          + ' to learn more about interactive tables.';\n",
              "        element.innerHTML = '';\n",
              "        dataTable['output_type'] = 'display_data';\n",
              "        await google.colab.output.renderOutput(dataTable, element);\n",
              "        const docLink = document.createElement('div');\n",
              "        docLink.innerHTML = docLinkHtml;\n",
              "        element.appendChild(docLink);\n",
              "      }\n",
              "    </script>\n",
              "  </div>\n",
              "\n",
              "\n",
              "<div id=\"df-37c9b314-77a8-4e45-9265-276ba07a3eb8\">\n",
              "  <button class=\"colab-df-quickchart\" onclick=\"quickchart('df-37c9b314-77a8-4e45-9265-276ba07a3eb8')\"\n",
              "            title=\"Suggest charts\"\n",
              "            style=\"display:none;\">\n",
              "\n",
              "<svg xmlns=\"http://www.w3.org/2000/svg\" height=\"24px\"viewBox=\"0 0 24 24\"\n",
              "     width=\"24px\">\n",
              "    <g>\n",
              "        <path d=\"M19 3H5c-1.1 0-2 .9-2 2v14c0 1.1.9 2 2 2h14c1.1 0 2-.9 2-2V5c0-1.1-.9-2-2-2zM9 17H7v-7h2v7zm4 0h-2V7h2v10zm4 0h-2v-4h2v4z\"/>\n",
              "    </g>\n",
              "</svg>\n",
              "  </button>\n",
              "\n",
              "<style>\n",
              "  .colab-df-quickchart {\n",
              "      --bg-color: #E8F0FE;\n",
              "      --fill-color: #1967D2;\n",
              "      --hover-bg-color: #E2EBFA;\n",
              "      --hover-fill-color: #174EA6;\n",
              "      --disabled-fill-color: #AAA;\n",
              "      --disabled-bg-color: #DDD;\n",
              "  }\n",
              "\n",
              "  [theme=dark] .colab-df-quickchart {\n",
              "      --bg-color: #3B4455;\n",
              "      --fill-color: #D2E3FC;\n",
              "      --hover-bg-color: #434B5C;\n",
              "      --hover-fill-color: #FFFFFF;\n",
              "      --disabled-bg-color: #3B4455;\n",
              "      --disabled-fill-color: #666;\n",
              "  }\n",
              "\n",
              "  .colab-df-quickchart {\n",
              "    background-color: var(--bg-color);\n",
              "    border: none;\n",
              "    border-radius: 50%;\n",
              "    cursor: pointer;\n",
              "    display: none;\n",
              "    fill: var(--fill-color);\n",
              "    height: 32px;\n",
              "    padding: 0;\n",
              "    width: 32px;\n",
              "  }\n",
              "\n",
              "  .colab-df-quickchart:hover {\n",
              "    background-color: var(--hover-bg-color);\n",
              "    box-shadow: 0 1px 2px rgba(60, 64, 67, 0.3), 0 1px 3px 1px rgba(60, 64, 67, 0.15);\n",
              "    fill: var(--button-hover-fill-color);\n",
              "  }\n",
              "\n",
              "  .colab-df-quickchart-complete:disabled,\n",
              "  .colab-df-quickchart-complete:disabled:hover {\n",
              "    background-color: var(--disabled-bg-color);\n",
              "    fill: var(--disabled-fill-color);\n",
              "    box-shadow: none;\n",
              "  }\n",
              "\n",
              "  .colab-df-spinner {\n",
              "    border: 2px solid var(--fill-color);\n",
              "    border-color: transparent;\n",
              "    border-bottom-color: var(--fill-color);\n",
              "    animation:\n",
              "      spin 1s steps(1) infinite;\n",
              "  }\n",
              "\n",
              "  @keyframes spin {\n",
              "    0% {\n",
              "      border-color: transparent;\n",
              "      border-bottom-color: var(--fill-color);\n",
              "      border-left-color: var(--fill-color);\n",
              "    }\n",
              "    20% {\n",
              "      border-color: transparent;\n",
              "      border-left-color: var(--fill-color);\n",
              "      border-top-color: var(--fill-color);\n",
              "    }\n",
              "    30% {\n",
              "      border-color: transparent;\n",
              "      border-left-color: var(--fill-color);\n",
              "      border-top-color: var(--fill-color);\n",
              "      border-right-color: var(--fill-color);\n",
              "    }\n",
              "    40% {\n",
              "      border-color: transparent;\n",
              "      border-right-color: var(--fill-color);\n",
              "      border-top-color: var(--fill-color);\n",
              "    }\n",
              "    60% {\n",
              "      border-color: transparent;\n",
              "      border-right-color: var(--fill-color);\n",
              "    }\n",
              "    80% {\n",
              "      border-color: transparent;\n",
              "      border-right-color: var(--fill-color);\n",
              "      border-bottom-color: var(--fill-color);\n",
              "    }\n",
              "    90% {\n",
              "      border-color: transparent;\n",
              "      border-bottom-color: var(--fill-color);\n",
              "    }\n",
              "  }\n",
              "</style>\n",
              "\n",
              "  <script>\n",
              "    async function quickchart(key) {\n",
              "      const quickchartButtonEl =\n",
              "        document.querySelector('#' + key + ' button');\n",
              "      quickchartButtonEl.disabled = true;  // To prevent multiple clicks.\n",
              "      quickchartButtonEl.classList.add('colab-df-spinner');\n",
              "      try {\n",
              "        const charts = await google.colab.kernel.invokeFunction(\n",
              "            'suggestCharts', [key], {});\n",
              "      } catch (error) {\n",
              "        console.error('Error during call to suggestCharts:', error);\n",
              "      }\n",
              "      quickchartButtonEl.classList.remove('colab-df-spinner');\n",
              "      quickchartButtonEl.classList.add('colab-df-quickchart-complete');\n",
              "    }\n",
              "    (() => {\n",
              "      let quickchartButtonEl =\n",
              "        document.querySelector('#df-37c9b314-77a8-4e45-9265-276ba07a3eb8 button');\n",
              "      quickchartButtonEl.style.display =\n",
              "        google.colab.kernel.accessAllowed ? 'block' : 'none';\n",
              "    })();\n",
              "  </script>\n",
              "</div>\n",
              "\n",
              "    </div>\n",
              "  </div>\n"
            ],
            "application/vnd.google.colaboratory.intrinsic+json": {
              "type": "dataframe",
              "variable_name": "df",
              "summary": "{\n  \"name\": \"df\",\n  \"rows\": 61511,\n  \"fields\": [\n    {\n      \"column\": \"query_id\",\n      \"properties\": {\n        \"dtype\": \"number\",\n        \"std\": 14,\n        \"min\": 301,\n        \"max\": 350,\n        \"num_unique_values\": 50,\n        \"samples\": [\n          314,\n          340,\n          331\n        ],\n        \"semantic_type\": \"\",\n        \"description\": \"\"\n      }\n    },\n    {\n      \"column\": \"doc_id\",\n      \"properties\": {\n        \"dtype\": \"string\",\n        \"num_unique_values\": 50152,\n        \"samples\": [\n          \"FT943-16339\",\n          \"FT941-3011\",\n          \"FT932-13465\"\n        ],\n        \"semantic_type\": \"\",\n        \"description\": \"\"\n      }\n    },\n    {\n      \"column\": \"relevance\",\n      \"properties\": {\n        \"dtype\": \"number\",\n        \"std\": 0,\n        \"min\": 0,\n        \"max\": 1,\n        \"num_unique_values\": 2,\n        \"samples\": [\n          0,\n          1\n        ],\n        \"semantic_type\": \"\",\n        \"description\": \"\"\n      }\n    }\n  ]\n}"
            }
          },
          "metadata": {},
          "execution_count": 10
        }
      ]
    },
    {
      "cell_type": "markdown",
      "source": [
        "###**Preprocess Queries**"
      ],
      "metadata": {
        "id": "F81yO-RiQ28U"
      }
    },
    {
      "cell_type": "code",
      "source": [
        "columns = ['query_id', 'nothing', 'doc-id', 'rank', 'similarity', 'pyserini']"
      ],
      "metadata": {
        "id": "3t0c4R26JbKo"
      },
      "execution_count": null,
      "outputs": []
    },
    {
      "cell_type": "code",
      "source": [
        "def get_metric(metric: str, file_name: str, verbose=True):\n",
        "  # Define the file path\n",
        "  file_path = f\"/content/{file_name}.txt\"\n",
        "\n",
        "  metric_value = None\n",
        "\n",
        "  # Read the file line by line\n",
        "  with open(file_path, \"r\") as file:\n",
        "      for line in file:\n",
        "          # Split the line into columns by tab\n",
        "          columns = line.strip().split(\"\\t\")\n",
        "\n",
        "          if len(columns) >= 3 and metric in columns[0] and columns[1] == \"all\":\n",
        "              # Extract the value from the third column\n",
        "              metric_value = float(columns[2])\n",
        "              break  # Exit the loop after finding the value\n",
        "\n",
        "  # Output the metric value\n",
        "  if verbose:\n",
        "    if metric_value is not None:\n",
        "        print(f\"The {metric} value is: {metric_value}\")\n",
        "    else:\n",
        "        print(\"{metric} value tagged as 'all' not found.\")\n",
        "  return metric_value\n",
        "\n"
      ],
      "metadata": {
        "id": "RBNL8qz5duOm"
      },
      "execution_count": null,
      "outputs": []
    },
    {
      "cell_type": "code",
      "source": [
        "def run_and_save_results(output_scores=\"scores.txt\", output_metrics = \"metrics.txt\", verbose=True):\n",
        "    if verbose:\n",
        "      print(f\"Evaluating on file {output_scores}\")\n",
        "    command = [\n",
        "        \"python\", \"-m\", \"pyserini.eval.trec_eval\", \"-q\",\n",
        "        root_folder_path + \"qrels_50_Queries\",\n",
        "        output_scores\n",
        "    ]\n",
        "\n",
        "    with open(output_metrics, \"w\") as f:\n",
        "        subprocess.run(command, stdout=f)"
      ],
      "metadata": {
        "id": "Mk4ov2CTJ_jm"
      },
      "execution_count": null,
      "outputs": []
    },
    {
      "cell_type": "code",
      "source": [
        "def rank_bm25(searcher, retrieve_doc_count=1000, verbose=True):\n",
        "  run_name = \"run3\"\n",
        "  results = []\n",
        "\n",
        "  for query_idx, query in enumerate(queries):\n",
        "    hits = searcher.search(query, k=retrieve_doc_count)\n",
        "    query_id = query_idx + 301\n",
        "    for rank, hit in enumerate(hits):\n",
        "      results.append({\n",
        "              'query_id': query_id,\n",
        "              'nothing': \"Q0\",  # 'nothing' column should be \"Q0\"\n",
        "              'doc-id': hit.docid,\n",
        "              'rank': rank + 1,\n",
        "              'similarity': hit.score,\n",
        "              'pyserini': run_name\n",
        "          })\n",
        "\n",
        "  # Create a DataFrame from the list of results\n",
        "  scores_df = pd.DataFrame(results, columns=columns)\n",
        "\n",
        "  # Save to file in the required format (run2.res)\n",
        "  output_file = \"scores.txt\"\n",
        "  scores_df.to_csv(output_file, sep=' ', index=False, header=False)\n",
        "  if verbose:\n",
        "    print(f\"Results saved to {output_file}\")"
      ],
      "metadata": {
        "id": "yj33W5-7Ja7c"
      },
      "execution_count": null,
      "outputs": []
    },
    {
      "cell_type": "code",
      "source": [
        "# Load TSV-format topics\n",
        "queries_file_path = f\"{root_folder_path}/queriesROBUST.txt\"\n",
        "raw_queries = get_topics_with_reader('io.anserini.search.topicreader.TsvIntTopicReader', queries_file_path)\n",
        "\n",
        "labeled_queries = [(key,query) for key, query in raw_queries.items() if key < 351]\n",
        "labeled_queries = sorted(labeled_queries, key = lambda kvp: kvp[0])\n",
        "queries = []\n",
        "for query_id, query_title in labeled_queries:\n",
        "  queries.append(query_title['title'])\n",
        "assert len(queries) == 50, 'missing queries'"
      ],
      "metadata": {
        "id": "eeLkAn2fJmfF"
      },
      "execution_count": null,
      "outputs": []
    },
    {
      "cell_type": "code",
      "source": [
        "unlabeled_queries = [(key,query) for key, query in raw_queries.items() if key >= 351]\n",
        "unlabeled_queries = sorted(unlabeled_queries, key = lambda kvp: kvp[0])\n",
        "\n",
        "inference_queries = []\n",
        "for query_id, query_title in unlabeled_queries:\n",
        "  inference_queries.append(query_title['title'])\n",
        "\n",
        "assert len(inference_queries) == 199, 'missing inference queries'"
      ],
      "metadata": {
        "id": "htXnc28iQ1Cn"
      },
      "execution_count": null,
      "outputs": []
    },
    {
      "cell_type": "code",
      "source": [
        "queries[:5]"
      ],
      "metadata": {
        "colab": {
          "base_uri": "https://localhost:8080/"
        },
        "id": "gtx55C8cJpIo",
        "outputId": "3fec1ccd-c216-46ba-c383-debf59ca5076"
      },
      "execution_count": null,
      "outputs": [
        {
          "output_type": "execute_result",
          "data": {
            "text/plain": [
              "['international organized crime',\n",
              " 'poliomyelitis post polio',\n",
              " 'hubble telescope achievements',\n",
              " 'endangered species mammals',\n",
              " 'dangerous vehicles']"
            ]
          },
          "metadata": {},
          "execution_count": 16
        }
      ]
    },
    {
      "cell_type": "code",
      "source": [
        "inference_queries[:5]"
      ],
      "metadata": {
        "colab": {
          "base_uri": "https://localhost:8080/"
        },
        "id": "Tw29-j5TQ2P8",
        "outputId": "2b5d4c12-d4c8-46f6-a206-9ef63f1989a0"
      },
      "execution_count": null,
      "outputs": [
        {
          "output_type": "execute_result",
          "data": {
            "text/plain": [
              "['falkland petroleum exploration',\n",
              " 'british chunnel impact',\n",
              " 'antarctica exploration',\n",
              " 'journalist risks',\n",
              " 'ocean remote sensing']"
            ]
          },
          "metadata": {},
          "execution_count": 53
        }
      ]
    },
    {
      "cell_type": "code",
      "source": [
        "my_analyzer = Analyzer(get_lucene_analyzer(stemming=True, stemmer=\"krovetz\"))\n",
        "\n",
        "lemmatized_queries = []\n",
        "for query in queries:\n",
        "    # Tokenize and apply Krovetz stemming\n",
        "    tokens = my_analyzer.analyze(query)\n",
        "    lemmatized_query = \" \".join(tokens)\n",
        "    lemmatized_queries.append(lemmatized_query)\n",
        "\n",
        "# Print lemmatized queries\n",
        "for original, lemmatized in zip(queries[:10], lemmatized_queries[:10]):\n",
        "    print(f\"Original: {original}\\nLemmatized: {lemmatized}\\n\")"
      ],
      "metadata": {
        "colab": {
          "base_uri": "https://localhost:8080/"
        },
        "id": "pQGPQhkBjDMQ",
        "outputId": "b8699130-4d1e-4456-ba50-eb92b1e1625c"
      },
      "execution_count": null,
      "outputs": [
        {
          "output_type": "stream",
          "name": "stdout",
          "text": [
            "Original: international organized crime\n",
            "Lemmatized: international organized crime\n",
            "\n",
            "Original: poliomyelitis post polio\n",
            "Lemmatized: poliomyeliti post polio\n",
            "\n",
            "Original: hubble telescope achievements\n",
            "Lemmatized: hubble telescope achievement\n",
            "\n",
            "Original: endangered species mammals\n",
            "Lemmatized: endanger species mammal\n",
            "\n",
            "Original: dangerous vehicles\n",
            "Lemmatized: dangerous vehicle\n",
            "\n",
            "Original: african civilian deaths\n",
            "Lemmatized: africa civilian death\n",
            "\n",
            "Original: new hydroelectric projects\n",
            "Lemmatized: new hydroelectric project\n",
            "\n",
            "Original: implant dentistry\n",
            "Lemmatized: implant dentistry\n",
            "\n",
            "Original: rap crime\n",
            "Lemmatized: rap crime\n",
            "\n",
            "Original: radio waves brain cancer\n",
            "Lemmatized: radio wave brain cancer\n",
            "\n"
          ]
        }
      ]
    },
    {
      "cell_type": "code",
      "source": [
        "index_reader = IndexReader('RobustPyserini')\n",
        "print(index_reader.stats())"
      ],
      "metadata": {
        "colab": {
          "base_uri": "https://localhost:8080/"
        },
        "id": "_sbjypfEJgip",
        "outputId": "91bfc8f0-96a6-414f-d89c-8e7d21f5680b"
      },
      "execution_count": null,
      "outputs": [
        {
          "output_type": "stream",
          "name": "stdout",
          "text": [
            "{'total_terms': 251357342, 'documents': 528030, 'non_empty_documents': 528030, 'unique_terms': -1}\n"
          ]
        }
      ]
    },
    {
      "cell_type": "code",
      "source": [
        "best_fb_term = 17\n",
        "best_fb_doc = 4\n",
        "best_original_query_weight = 0.4785\n",
        "best_k = 0.5644\n",
        "best_b=0.7565"
      ],
      "metadata": {
        "id": "cFhafP2fFo-0"
      },
      "execution_count": null,
      "outputs": []
    },
    {
      "cell_type": "code",
      "source": [
        "searcher = LuceneSearcher('RobustPyserini')\n",
        "\n",
        "analyzer = get_lucene_analyzer(stemmer='krovetz', stopwords=False) #Ensure no stopwords are removed from the query\n",
        "searcher.set_analyzer(analyzer)\n",
        "\n",
        "searcher.set_bm25(k1=best_k, b=best_b)\n",
        "searcher.set_rm3(fb_terms=best_fb_term, fb_docs=best_fb_doc, original_query_weight=best_original_query_weight)\n"
      ],
      "metadata": {
        "id": "V7zw-5wxJD_V"
      },
      "execution_count": null,
      "outputs": []
    },
    {
      "cell_type": "code",
      "source": [
        "rank_bm25(searcher, retrieve_doc_count=1000, verbose=True)\n",
        "run_and_save_results()"
      ],
      "metadata": {
        "colab": {
          "base_uri": "https://localhost:8080/"
        },
        "id": "NGyoo555by-G",
        "outputId": "7e01e1ff-cc8f-4404-901e-dc29e7f59c27"
      },
      "execution_count": null,
      "outputs": [
        {
          "output_type": "stream",
          "name": "stdout",
          "text": [
            "Results saved to scores.txt\n",
            "Evaluating on file scores.txt\n"
          ]
        }
      ]
    },
    {
      "cell_type": "markdown",
      "source": [
        "###**Naive Ranking - bm25**"
      ],
      "metadata": {
        "id": "aD7YRctBRQ0Y"
      }
    },
    {
      "cell_type": "code",
      "source": [
        "# Initialize document counts (as per your original code)\n",
        "documents_counts = [1000 + 2000 * i for i in range(8)]\n",
        "\n",
        "# List to store the relevant retrieved counts\n",
        "relevant_retrieved_counts = []\n",
        "\n",
        "# Loop over document counts with tqdm\n",
        "for documents_count in tqdm(documents_counts, desc=\"Processing document counts\"):\n",
        "    # Run BM25 and save the results\n",
        "    rank_bm25(searcher, documents_count)  # Assuming rank_bm25 is defined elsewhere\n",
        "    run_and_save_results(verbose=False)  # Assuming run_and_save_results is defined elsewhere\n",
        "\n",
        "    # Get the relevant retrieved count\n",
        "    relevant_retrieved_count = get_metric(\"num_rel_ret\", \"metrics\", verbose=False)  # Assuming get_metric is defined elsewhere\n",
        "    relevant_retrieved_counts.append(relevant_retrieved_count)\n",
        "\n",
        "    # Optionally, delete the result files after each iteration\n",
        "    os.remove(\"/content/scores.txt\")\n",
        "    os.remove(\"/content/metrics.txt\")\n",
        "\n",
        "# Plot the relevant retrieved counts against document counts\n",
        "plt.figure(figsize=(10, 6))\n",
        "plt.plot(documents_counts, relevant_retrieved_counts, label='Relevant Retrieved Count', color='b', marker='o')\n",
        "plt.title(\"Relevant Retrieved Count vs Document Count\")\n",
        "plt.xlabel(\"Document Count\")\n",
        "plt.ylabel(\"Relevant Retrieved Count\")\n",
        "\n",
        "plt.legend()\n",
        "\n",
        "plt.show()\n"
      ],
      "metadata": {
        "colab": {
          "base_uri": "https://localhost:8080/",
          "height": 599
        },
        "id": "2WASEM1jJa46",
        "outputId": "dce2feb6-9012-422f-d9e9-d07b7b392370"
      },
      "execution_count": null,
      "outputs": [
        {
          "output_type": "stream",
          "name": "stderr",
          "text": [
            "\rProcessing document counts:   0%|          | 0/1 [00:00<?, ?it/s]"
          ]
        },
        {
          "output_type": "stream",
          "name": "stdout",
          "text": [
            "Results saved to scores.txt\n"
          ]
        },
        {
          "output_type": "stream",
          "name": "stderr",
          "text": [
            "Processing document counts: 100%|██████████| 1/1 [00:16<00:00, 16.14s/it]\n"
          ]
        },
        {
          "output_type": "display_data",
          "data": {
            "text/plain": [
              "<Figure size 1000x600 with 1 Axes>"
            ],
            "image/png": "[encoded data removed]"
          },
          "metadata": {}
        }
      ]
    },
    {
      "cell_type": "markdown",
      "source": [
        "##**Optimizing bm25 - Grid Search**"
      ],
      "metadata": {
        "id": "iOpA_FpydWA0"
      }
    },
    {
      "cell_type": "code",
      "source": [
        "# Initialize searcher\n",
        "searcher = LuceneSearcher('RobustPyserini')\n",
        "\n",
        "# Specify custom analyzer for query processing\n",
        "analyzer = get_lucene_analyzer(stemmer='krovetz', stopwords=False)  # Ensure no stopwords are removed from the query\n",
        "searcher.set_analyzer(analyzer)\n",
        "\n",
        "# Hyperparameter ranges for k1 and b\n",
        "k1_values = [0.3] #np.linspace(0.1, 5, 10)  # e.g., 0.1 to 2.0 in 15 steps\n",
        "b_values = [0.55]#np.linspace(0.4,0.7, 10)  # e.g., 0.1 to 2.0 in 15 steps\n",
        "fb_terms = [5, 10, 15]\n",
        "fb_docs =[3, 5, 10]\n",
        "original_query_weights = [0.3, 0.5, 0.7]\n",
        "# Grid search results\n",
        "grid_results = []\n",
        "\n",
        "# Grid search over k1 and b\n",
        "for k1, b, fb_term, fb_doc, original_query_weight in tqdm(product(k1_values, b_values, fb_terms, fb_docs, original_query_weights), desc=\"Optimizing k1 and b\"):\n",
        "    searcher.set_bm25(k1=k1, b=b)\n",
        "    searcher.set_rm3(fb_terms=fb_term, fb_docs=fb_doc, original_query_weight=original_query_weight)\n",
        "\n",
        "    # Run BM25 and save results\n",
        "    rank_bm25(searcher, verbose=False)  # Assuming rank_bm25 is defined elsewhere\n",
        "    run_and_save_results(verbose=False)  # Assuming run_and_save_results is defined elsewhere\n",
        "\n",
        "    # Get metrics\n",
        "    map_score = get_metric(\"map\", \"metrics\", verbose=False)\n",
        "\n",
        "    # Delete temporary files\n",
        "    os.remove(\"/content/scores.txt\")\n",
        "    os.remove(\"/content/metrics.txt\")\n",
        "\n",
        "    # Store the results\n",
        "    grid_results.append((k1, b, fb_term, fb_doc, original_query_weight, map_score))\n",
        "\n",
        "# Find the best k1, b based on MAP\n",
        "best_k1, best_b, best_fb_term, best_fb_doc, best_original_query_weight, best_map = max(grid_results, key=lambda x: x[5])\n",
        "\n",
        "print(f\"Best k1: {best_k1}, Best b: {best_b}\")\n",
        "print(f\"Best fb_term: {best_fb_term}, Best fb_doc: {best_fb_doc}, Best original_query_weight: {best_original_query_weight}\")\n",
        "print(f\"Best MAP: {best_map}\")\n",
        "\n",
        "# Visualization\n",
        "fig, ax = plt.subplots(figsize=(8, 6))\n",
        "\n",
        "# Plotting MAP values across k1, b combinations\n",
        "x_vals = [res[0] for res in grid_results]\n",
        "y_vals = [res[1] for res in grid_results]\n",
        "map_vals = [res[2] for res in grid_results]\n",
        "\n",
        "sc = ax.scatter(x_vals, y_vals, c=map_vals, cmap='viridis', s=50)\n",
        "plt.colorbar(sc, label='MAP Score')\n",
        "ax.set_title(\"MAP Score by BM25 Parameters\")\n",
        "ax.set_xlabel(\"k1\")\n",
        "ax.set_ylabel(\"b\")\n",
        "\n",
        "plt.tight_layout()\n",
        "plt.show()\n"
      ],
      "metadata": {
        "colab": {
          "base_uri": "https://localhost:8080/",
          "height": 228
        },
        "id": "QerFinlReUfO",
        "outputId": "d9893334-9880-4aad-b7cd-f10a62b4d509"
      },
      "execution_count": null,
      "outputs": [
        {
          "output_type": "stream",
          "name": "stderr",
          "text": [
            "Optimizing k1 and b: 27it [11:10, 24.85s/it]\n"
          ]
        },
        {
          "output_type": "error",
          "ename": "ValueError",
          "evalue": "too many values to unpack (expected 3)",
          "traceback": [
            "\u001b[0;31m---------------------------------------------------------------------------\u001b[0m",
            "\u001b[0;31mValueError\u001b[0m                                Traceback (most recent call last)",
            "\u001b[0;32m<ipython-input-33-7ca1be29611a>\u001b[0m in \u001b[0;36m<cell line: 0>\u001b[0;34m()\u001b[0m\n\u001b[1;32m     41\u001b[0m \u001b[0;34m\u001b[0m\u001b[0m\n\u001b[1;32m     42\u001b[0m \u001b[0;31m# Find the best k1, b based on MAP\u001b[0m\u001b[0;34m\u001b[0m\u001b[0;34m\u001b[0m\u001b[0m\n\u001b[0;32m---> 43\u001b[0;31m \u001b[0mbest_k1\u001b[0m\u001b[0;34m,\u001b[0m \u001b[0mbest_b\u001b[0m\u001b[0;34m,\u001b[0m \u001b[0mbest_map\u001b[0m \u001b[0;34m=\u001b[0m \u001b[0mmax\u001b[0m\u001b[0;34m(\u001b[0m\u001b[0mgrid_results\u001b[0m\u001b[0;34m,\u001b[0m \u001b[0mkey\u001b[0m\u001b[0;34m=\u001b[0m\u001b[0;32mlambda\u001b[0m \u001b[0mx\u001b[0m\u001b[0;34m:\u001b[0m \u001b[0mx\u001b[0m\u001b[0;34m[\u001b[0m\u001b[0;36m2\u001b[0m\u001b[0;34m]\u001b[0m\u001b[0;34m)\u001b[0m\u001b[0;34m\u001b[0m\u001b[0;34m\u001b[0m\u001b[0m\n\u001b[0m\u001b[1;32m     44\u001b[0m \u001b[0;34m\u001b[0m\u001b[0m\n\u001b[1;32m     45\u001b[0m \u001b[0mprint\u001b[0m\u001b[0;34m(\u001b[0m\u001b[0;34mf\"Best k1: {best_k1}, Best b: {best_b}\"\u001b[0m\u001b[0;34m)\u001b[0m\u001b[0;34m\u001b[0m\u001b[0;34m\u001b[0m\u001b[0m\n",
            "\u001b[0;31mValueError\u001b[0m: too many values to unpack (expected 3)"
          ]
        }
      ]
    },
    {
      "cell_type": "code",
      "source": [
        "# Initialize searcher\n",
        "searcher = LuceneSearcher('RobustPyserini')\n",
        "\n",
        "# Specify custom analyzer for query processing\n",
        "analyzer = get_lucene_analyzer(stemmer='krovetz', stopwords=False)  # Ensure no stopwords are removed from the query\n",
        "searcher.set_analyzer(analyzer)\n",
        "\n",
        "# Hyperparameter ranges\n",
        "k1_values = [0.3]  # Example fixed value\n",
        "b_values = [0.55]  # Example fixed value\n",
        "fb_terms = [15]\n",
        "fb_docs = np.linspace(2, 10, 5)\n",
        "original_query_weights = np.linspace(0.2, 0.7, 5)\n",
        "\n",
        "# Grid search results\n",
        "grid_results = []\n",
        "\n",
        "# Grid search over k1, b, fb_terms, fb_docs, and original_query_weights\n",
        "for k1, b, fb_term, fb_doc, original_query_weight in tqdm(product(k1_values, b_values, fb_terms, fb_docs, original_query_weights), desc=\"Optimizing parameters\"):\n",
        "    searcher.set_bm25(k1=k1, b=b)\n",
        "    searcher.set_rm3(fb_terms=fb_term, fb_docs=fb_doc, original_query_weight=original_query_weight)\n",
        "\n",
        "    # Run BM25 and save results\n",
        "    rank_bm25(searcher, verbose=False)  # Assuming rank_bm25 is defined elsewhere\n",
        "    run_and_save_results(verbose=False)  # Assuming run_and_save_results is defined elsewhere\n",
        "\n",
        "    # Get metrics\n",
        "    map_score = get_metric(\"map\", \"metrics\", verbose=False)\n",
        "\n",
        "    # Delete temporary files\n",
        "    for temp_file in [\"/content/scores.txt\", \"/content/metrics.txt\"]:\n",
        "        if os.path.exists(temp_file):\n",
        "            os.remove(temp_file)\n",
        "\n",
        "    # Store the results\n",
        "    grid_results.append((k1, b, fb_term, fb_doc, original_query_weight, map_score))\n",
        "\n",
        "# Find the best parameters based on MAP\n",
        "best_k1, best_b, best_fb_term, best_fb_doc, best_original_query_weight, best_map = max(grid_results, key=lambda x: x[5])\n",
        "\n",
        "print(f\"Best k1: {best_k1}, Best b: {best_b}\")\n",
        "print(f\"Best fb_term: {best_fb_term}, Best fb_doc: {best_fb_doc}, Best original_query_weight: {best_original_query_weight}\")\n",
        "print(f\"Best MAP: {best_map}\")\n",
        "\n",
        "# Visualization of MAP scores\n",
        "fig, ax = plt.subplots(figsize=(10, 8))\n",
        "\n",
        "# Extract values for plotting\n",
        "x_vals = [res[0] for res in grid_results]\n",
        "y_vals = [res[1] for res in grid_results]\n",
        "z_vals = [res[5] for res in grid_results]  # Use MAP scores for color\n",
        "\n",
        "# Scatter plot with MAP as color\n",
        "sc = ax.scatter(x_vals, y_vals, c=z_vals, cmap='viridis', s=50)\n",
        "plt.colorbar(sc, label='MAP Score')\n",
        "\n",
        "ax.set_title(\"MAP Score by BM25 Parameters (k1, b)\")\n",
        "ax.set_xlabel(\"k1\")\n",
        "ax.set_ylabel(\"b\")\n",
        "plt.tight_layout()\n",
        "plt.show()\n"
      ],
      "metadata": {
        "colab": {
          "base_uri": "https://localhost:8080/",
          "height": 876
        },
        "id": "pEJlJK32qiuP",
        "outputId": "6143e517-50bb-4ddf-c899-2d21d49cb763"
      },
      "execution_count": null,
      "outputs": [
        {
          "output_type": "stream",
          "name": "stderr",
          "text": [
            "Optimizing parameters: 25it [10:13, 24.53s/it]\n"
          ]
        },
        {
          "output_type": "stream",
          "name": "stdout",
          "text": [
            "Best k1: 0.3, Best b: 0.55\n",
            "Best fb_term: 15, Best fb_doc: 8.0, Best original_query_weight: 0.575\n",
            "Best MAP: 0.252\n"
          ]
        },
        {
          "output_type": "display_data",
          "data": {
            "text/plain": [
              "<Figure size 1000x800 with 2 Axes>"
            ],
            "image/png": "[encoded data removed]"
          },
          "metadata": {}
        }
      ]
    },
    {
      "cell_type": "code",
      "source": [],
      "metadata": {
        "colab": {
          "base_uri": "https://localhost:8080/",
          "height": 659
        },
        "id": "eAN0hw3ypnrw",
        "outputId": "bfbe39c2-d483-4669-c505-5f4c358a7d4c"
      },
      "execution_count": null,
      "outputs": [
        {
          "output_type": "stream",
          "name": "stdout",
          "text": [
            "Best k1: 0.3, Best b: 0.55\n",
            "Best fb_term: 15, Best fb_doc: 5, Best original_query_weight: 0.5\n",
            "Best MAP: 0.2503\n"
          ]
        },
        {
          "output_type": "display_data",
          "data": {
            "text/plain": [
              "<Figure size 800x600 with 2 Axes>"
            ],
            "image/png": "[encoded data removed]"
          },
          "metadata": {}
        }
      ]
    },
    {
      "cell_type": "markdown",
      "source": [
        "##**BM25 Hyperparameters Tuning - Random Search**"
      ],
      "metadata": {
        "id": "lmbgU3RcyR_U"
      }
    },
    {
      "cell_type": "code",
      "source": [
        "# Initialize searcher\n",
        "searcher = LuceneSearcher('RobustPyserini')\n",
        "\n",
        "# Specify custom analyzer for query processing\n",
        "analyzer = get_lucene_analyzer(stemmer='krovetz', stopwords=False)  # Ensure no stopwords are removed from the query\n",
        "searcher.set_analyzer(analyzer)\n",
        "\n",
        "# Define hyperparameter ranges\n",
        "k1_range = (0.1, 1.2)  # Example range for k1\n",
        "b_range = (0.1, 1.0)  # Example range for b\n",
        "fb_terms_range = (5, 20)  # Example range for feedback terms\n",
        "fb_docs_range = (4, 15)  # Example range for feedback docs\n",
        "original_query_weight_range = (0.2, 0.7)  # Example range for query weight\n",
        "\n",
        "# Number of random samples\n",
        "num_samples = 400\n",
        "\n",
        "# Random search results\n",
        "random_results = []\n",
        "\n",
        "# Randomly sample hyperparameter combinations\n",
        "for _ in tqdm(range(num_samples), desc=\"Random search\"):\n",
        "    k1 = random.uniform(*k1_range)\n",
        "    b = random.uniform(*b_range)\n",
        "    fb_term = random.randint(*fb_terms_range)\n",
        "    fb_doc = random.randint(*fb_docs_range)\n",
        "    original_query_weight = random.uniform(*original_query_weight_range)\n",
        "\n",
        "    searcher.set_bm25(k1=k1, b=b)\n",
        "    searcher.set_rm3(fb_terms=fb_term, fb_docs=fb_doc, original_query_weight=original_query_weight)\n",
        "\n",
        "    # Run BM25 and save results\n",
        "    rank_bm25(searcher, verbose=False)  # Assuming rank_bm25 is defined elsewhere\n",
        "    run_and_save_results(verbose=False)  # Assuming run_and_save_results is defined elsewhere\n",
        "\n",
        "    # Get metrics\n",
        "    map_score = get_metric(\"map\", \"metrics\", verbose=False)\n",
        "\n",
        "    # Delete temporary files\n",
        "    for temp_file in [\"/content/scores.txt\", \"/content/metrics.txt\"]:\n",
        "        if os.path.exists(temp_file):\n",
        "            os.remove(temp_file)\n",
        "\n",
        "    # Store the results\n",
        "    random_results.append((k1, b, fb_term, fb_doc, original_query_weight, map_score))\n",
        "\n",
        "# Find the best parameters based on MAP\n",
        "best_k1, best_b, best_fb_term, best_fb_doc, best_original_query_weight, best_map = max(random_results, key=lambda x: x[5])\n",
        "\n",
        "print(f\"Best k1: {best_k1}, Best b: {best_b}\")\n",
        "print(f\"Best fb_term: {best_fb_term}, Best fb_doc: {best_fb_doc}, Best original_query_weight: {best_original_query_weight}\")\n",
        "print(f\"Best MAP: {best_map}\")\n",
        "\n",
        "# Visualization of MAP scores\n",
        "fig, ax = plt.subplots(figsize=(10, 8))\n",
        "\n",
        "# Extract values for plotting\n",
        "x_vals = [res[0] for res in random_results]\n",
        "y_vals = [res[1] for res in random_results]\n",
        "z_vals = [res[5] for res in random_results]  # Use MAP scores for color\n",
        "\n",
        "# Scatter plot with MAP as color\n",
        "sc = ax.scatter(x_vals, y_vals, c=z_vals, cmap='viridis', s=50)\n",
        "plt.colorbar(sc, label='MAP Score')\n",
        "\n",
        "ax.set_title(\"MAP Score by BM25 Parameters (k1, b)\")\n",
        "ax.set_xlabel(\"k1\")\n",
        "ax.set_ylabel(\"b\")\n",
        "plt.tight_layout()\n",
        "plt.show()\n"
      ],
      "metadata": {
        "colab": {
          "base_uri": "https://localhost:8080/",
          "height": 876
        },
        "id": "6FlKeaC8yRFO",
        "outputId": "2e4a1aed-c522-42fe-f1be-bd238a57ca3b"
      },
      "execution_count": null,
      "outputs": [
        {
          "output_type": "stream",
          "name": "stderr",
          "text": [
            "Random search: 100%|██████████| 400/400 [2:47:10<00:00, 25.08s/it]\n"
          ]
        },
        {
          "output_type": "stream",
          "name": "stdout",
          "text": [
            "Best k1: 0.5644465788816427, Best b: 0.7565267708726576\n",
            "Best fb_term: 17, Best fb_doc: 4, Best original_query_weight: 0.4785121558020065\n",
            "Best MAP: 0.2553\n"
          ]
        },
        {
          "output_type": "display_data",
          "data": {
            "text/plain": [
              "<Figure size 1000x800 with 2 Axes>"
            ],
            "image/png": "[encoded data removed]"
          },
          "metadata": {}
        }
      ]
    },
    {
      "cell_type": "code",
      "source": [
        "print(index_reader.stats())"
      ],
      "metadata": {
        "id": "qv9tE5HkJazv"
      },
      "execution_count": null,
      "outputs": []
    },
    {
      "cell_type": "markdown",
      "source": [
        "# **Cross Encoder**"
      ],
      "metadata": {
        "id": "YM_vk16K_XbE"
      }
    },
    {
      "cell_type": "code",
      "source": [
        "model_name = \"cross-encoder/ms-marco-MiniLM-L-6-v2\"\n",
        "cross_encoder = CrossEncoder(model_name, device=device)"
      ],
      "metadata": {
        "colab": {
          "base_uri": "https://localhost:8080/",
          "height": 301,
          "referenced_widgets": [
            "ad538c7f2faf466193dc1396b2d2c493",
            "31c18829152244e09d90e9228a205630",
            "fb662952415047598fcb200be2520796",
            "0a77430d93344207a36638e1a3e6cbb4",
            "9abc81c2d8d14251b579ea1215dcee53",
            "dcb655713425470f9afee9768f238820",
            "8ab49fdf19a44f0c8519c2c22ee8c4e9",
            "2260884fc55c4f279db614538158b308",
            "b3dd9f3484234124bcf991367b489300",
            "2eac471e82324e4185012c2cb1ad2ecd",
            "857e61a263754251bf35f8349caf3eb9",
            "1cbe55bee43643898a7b0155fe3d9014",
            "b7b85d7888d24a05b971c6e41418f8ca",
            "b47bbefd71ce4915ac199885b2f339fe",
            "656ea366ce51400fa021edd14ebab9e0",
            "4269957c199944a290b95bf68f7f9f54",
            "47f6fe396c5948a5911581066bfcd43f",
            "239948d4876e44d988de0b2825003fcd",
            "db3161fbf3c14b8abe8405dd29d6e525",
            "dcee523aed474cf5842df83a4342b51f",
            "57ac0ffffe04481f870de81af9c577f0",
            "dfc165cf106148629c1fecb93fbc18ab",
            "efc07d4fb5cb42eda0c9221d5a38508f",
            "9ce0dcf199d348e8b7538cdeb62350bb",
            "b743e83a5ca14f2599b24c85784d2101",
            "e2de8537758d43599fe24b861881f418",
            "270faf1049f94eaca7a6badecb0d4f18",
            "da948584583a4e4a96efd33210e8b2fd",
            "a0e86ec084eb460896164a415425c19f",
            "23a786f4189749588ba3543ff1f3a952",
            "9908493018474040bd98a51415926812",
            "89272354a01845cdbc4f971d6602f08f",
            "1a79fc94ac3343f1a52d82d63d2427dc",
            "12fc0ef74d524017877bd6740040f791",
            "b3b1ec86dddf42f08a3f4fcda034cf32",
            "125a911bf3944f83989e25146dcc3614",
            "dfd37e585a4f417b91e8ccecfacecdca",
            "a9b2a7e6f4c14703ba41a997725cf9e5",
            "53a5082f3e134122a87fe78142d96e7e",
            "0caf6c10761c4b3796cae31e6c926027",
            "5a92252939d94f63b3e8a3f36eb6a7b1",
            "a54bcf6b502c4acd9d74a5973d872f0f",
            "b09ff1ba865f498fb12ccb8dce4be0a2",
            "97d063b6e3024034bd923d4604142408",
            "78cdc5994dd246baa45ab16a020ce4d2",
            "3f8e5e404bc64cdf8ca7f324bf69ff40",
            "825620024416459c895f69ea3b1e4ed5",
            "a25bae76075b4b22ba28830497eefc25",
            "e87f8876f64c4c638c3125348ec8d705",
            "3fb5c7e30da948dbaf7d8ac9ef5d1531",
            "210f052e9cf246009b0096b6fe4f7229",
            "2f368302bdc44a9cabbc84b5b7f0e9cc",
            "f6e1ce21eb2347e1a6b62ccc5e74b0f3",
            "e6635c67ce4348708712086dfd16c472",
            "daa8ec1c350248c0ae855386b4025911"
          ]
        },
        "id": "5kwcTsizTpgr",
        "outputId": "446fe9ce-5bf4-4c8e-d73f-95d9b905925c"
      },
      "execution_count": null,
      "outputs": [
        {
          "output_type": "stream",
          "name": "stderr",
          "text": [
            "/usr/local/lib/python3.11/dist-packages/huggingface_hub/utils/_auth.py:94: UserWarning: \n",
            "The secret `HF_TOKEN` does not exist in your Colab secrets.\n",
            "To authenticate with the Hugging Face Hub, create a token in your settings tab (https://huggingface.co/settings/tokens), set it as secret in your Google Colab and restart your session.\n",
            "You will be able to reuse this secret in all of your notebooks.\n",
            "Please note that authentication is recommended but still optional to access public models or datasets.\n",
            "  warnings.warn(\n"
          ]
        },
        {
          "output_type": "display_data",
          "data": {
            "text/plain": [
              "config.json:   0%|          | 0.00/794 [00:00<?, ?B/s]"
            ],
            "application/vnd.jupyter.widget-view+json": {
              "version_major": 2,
              "version_minor": 0,
              "model_id": "ad538c7f2faf466193dc1396b2d2c493"
            }
          },
          "metadata": {}
        },
        {
          "output_type": "display_data",
          "data": {
            "text/plain": [
              "model.safetensors:   0%|          | 0.00/90.9M [00:00<?, ?B/s]"
            ],
            "application/vnd.jupyter.widget-view+json": {
              "version_major": 2,
              "version_minor": 0,
              "model_id": "1cbe55bee43643898a7b0155fe3d9014"
            }
          },
          "metadata": {}
        },
        {
          "output_type": "display_data",
          "data": {
            "text/plain": [
              "tokenizer_config.json:   0%|          | 0.00/316 [00:00<?, ?B/s]"
            ],
            "application/vnd.jupyter.widget-view+json": {
              "version_major": 2,
              "version_minor": 0,
              "model_id": "efc07d4fb5cb42eda0c9221d5a38508f"
            }
          },
          "metadata": {}
        },
        {
          "output_type": "display_data",
          "data": {
            "text/plain": [
              "vocab.txt:   0%|          | 0.00/232k [00:00<?, ?B/s]"
            ],
            "application/vnd.jupyter.widget-view+json": {
              "version_major": 2,
              "version_minor": 0,
              "model_id": "12fc0ef74d524017877bd6740040f791"
            }
          },
          "metadata": {}
        },
        {
          "output_type": "display_data",
          "data": {
            "text/plain": [
              "special_tokens_map.json:   0%|          | 0.00/112 [00:00<?, ?B/s]"
            ],
            "application/vnd.jupyter.widget-view+json": {
              "version_major": 2,
              "version_minor": 0,
              "model_id": "78cdc5994dd246baa45ab16a020ce4d2"
            }
          },
          "metadata": {}
        }
      ]
    },
    {
      "cell_type": "markdown",
      "source": [
        "# Train Query Scores"
      ],
      "metadata": {
        "id": "stjqWRmEQbMv"
      }
    },
    {
      "cell_type": "code",
      "source": [
        "# Re-rank the documents based on cosine similarity\n",
        "query_hits = [] # Sorted re-rankings for each query of 1000 documents\n",
        "reranked_hits = [] # Re ranked 1000 documents for query\n",
        "\n",
        "# Using tqdm correctly with a progress bar\n",
        "for query_idx, query in tqdm(enumerate(queries), desc=\"Processing queries\", total=len(queries)):\n",
        "    hits = searcher.search(query, k=6000)\n",
        "\n",
        "    # Compute similarity scores between query and documents\n",
        "    scores = []\n",
        "    for hit in hits:\n",
        "        doc_path = f\"/content/raw_files/{hit.docid}.txt\"\n",
        "        with open(doc_path, 'r', encoding='utf-8') as file:\n",
        "            doc = file.read()\n",
        "\n",
        "        model_score = cross_encoder.predict([(query, doc)])[0]\n",
        "        bm_25_score = hit.score\n",
        "        scores.append((hit, model_score, bm_25_score))\n",
        "\n",
        "    reranked_hits = sorted(scores, key=lambda x: x[1], reverse=True)\n",
        "    #########################################################\n",
        "    # TODO: Consider sorting by avg score after normalization\n",
        "    # Maybe get better results\n",
        "    # IF SO - DOCUMENT THIS EXPERIMENT\n",
        "    #########################################################\n",
        "    query_hits.append(reranked_hits)"
      ],
      "metadata": {
        "colab": {
          "base_uri": "https://localhost:8080/"
        },
        "id": "Jmj4xIyQXfNV",
        "outputId": "7d468266-88a4-43e5-f8e4-7ef9bc2ec8ea"
      },
      "execution_count": null,
      "outputs": [
        {
          "output_type": "stream",
          "name": "stderr",
          "text": [
            "Processing queries: 100%|██████████| 50/50 [51:38<00:00, 61.96s/it]\n"
          ]
        }
      ]
    },
    {
      "cell_type": "code",
      "source": [
        "queries[:5]"
      ],
      "metadata": {
        "colab": {
          "base_uri": "https://localhost:8080/"
        },
        "id": "lOCCDmt7QJMV",
        "outputId": "5b0842c9-f709-429d-c156-3fb30483df0a"
      },
      "execution_count": null,
      "outputs": [
        {
          "output_type": "execute_result",
          "data": {
            "text/plain": [
              "['international organized crime',\n",
              " 'poliomyelitis post polio',\n",
              " 'hubble telescope achievements',\n",
              " 'endangered species mammals',\n",
              " 'dangerous vehicles']"
            ]
          },
          "metadata": {},
          "execution_count": 50
        }
      ]
    },
    {
      "cell_type": "markdown",
      "source": [
        "# Inference Query Scores"
      ],
      "metadata": {
        "id": "mxOq3TswQ89q"
      }
    },
    {
      "cell_type": "code",
      "source": [
        "while True:\n",
        "  print(\"hello world\")\n",
        "  break"
      ],
      "metadata": {
        "id": "IgqEP3PKpWeE"
      },
      "execution_count": null,
      "outputs": []
    },
    {
      "cell_type": "code",
      "source": [
        "#Hi colab\n",
        "# Remember not to kick me out?\n",
        "# I am still here! waiting for my code to finish running\n",
        "# Do not kick me outtttttt"
      ],
      "metadata": {
        "id": "VPddw3BnwNK_"
      },
      "execution_count": null,
      "outputs": []
    },
    {
      "cell_type": "code",
      "source": [
        "#No google colab, i am not a robot!!\n",
        "# I'm using google colab interactively. alright?\n",
        "# Dooooooooooooooooooooooon't disconnect my runtime! survive!\n",
        "# Only 1hr and 20 mins more oooooooooooooooooooooooooook?\n",
        "# I have faith in ya! thank you :)\n",
        "# Still here!!!@@@! yup.\n",
        "# I believe in you!!!\n",
        "# I really do\n",
        "# no tricks and shitcks ok? ty!!!!!!!!!!!\n",
        "# No worries, im not going anywhere!\n",
        "#withya untill the end! ok ???\n",
        "# nope, still not gone!!!!!!!!!!!!!!!!!!! mmmmmmk\n",
        "# Hi google. still here.\n",
        "# You're a hero for not crashing google colab!!!!!!\n",
        "# I Believe in you! don't crash on me !!!!!!!!!!!!!"
      ],
      "metadata": {
        "id": "auv9CyYSpWZO"
      },
      "execution_count": null,
      "outputs": []
    },
    {
      "cell_type": "code",
      "source": [
        "print(\"teeheeheehee\")\n",
        "for i in range(5):\n",
        "  print(\"hello world\")"
      ],
      "metadata": {
        "id": "FHl9H8VrgK-V"
      },
      "execution_count": null,
      "outputs": []
    },
    {
      "cell_type": "code",
      "source": [
        "# Re-rank the documents based on cosine similarity\n",
        "inference_query_hits = [] # Sorted re-rankings for each query of 1000 documents\n",
        "inference_reranked_hits = [] # Re ranked 1000 documents for query\n",
        "\n",
        "# Using tqdm correctly with a progress bar\n",
        "for query_idx, query in tqdm(enumerate(inference_queries), desc=\"Processing inference queries\", total=len(inference_queries)):\n",
        "    hits = searcher.search(query, k=6000)\n",
        "\n",
        "    # Compute similarity scores between query and documents\n",
        "    scores = []\n",
        "    for hit in hits:\n",
        "        doc_path = f\"/content/raw_files/{hit.docid}.txt\"\n",
        "        with open(doc_path, 'r', encoding='utf-8') as file:\n",
        "            doc = file.read()\n",
        "\n",
        "        model_score = cross_encoder.predict([(query, doc)])[0]\n",
        "        bm_25_score = hit.score\n",
        "        scores.append((hit, model_score, bm_25_score))\n",
        "\n",
        "    inference_reranked_hits = sorted(scores, key=lambda x: x[1], reverse=True)\n",
        "    #########################################################\n",
        "    # TODO: Consider sorting by avg score after normalization\n",
        "    # Maybe get better results\n",
        "    # IF SO - DOCUMENT THIS EXPERIMENT\n",
        "    #########################################################\n",
        "    inference_query_hits.append(inference_reranked_hits)"
      ],
      "metadata": {
        "colab": {
          "base_uri": "https://localhost:8080/"
        },
        "id": "aFqUDQC9QHD1",
        "outputId": "cadf2387-22dd-4b7c-c856-86d34f62d87c"
      },
      "execution_count": null,
      "outputs": [
        {
          "output_type": "stream",
          "name": "stderr",
          "text": [
            "Processing inference queries: 100%|██████████| 199/199 [3:27:58<00:00, 62.71s/it]\n"
          ]
        }
      ]
    },
    {
      "cell_type": "code",
      "source": [
        "# Specify the output file\n",
        "output_file = \"inference_results.txt\"\n",
        "\n",
        "# Open the file in write mode\n",
        "with open(output_file, \"w\") as file:\n",
        "    # Loop through the inference query hits\n",
        "    for query_idx, scores in enumerate(inference_query_hits, start=351):\n",
        "        for _, model_score, _ in scores:\n",
        "            # Write the results to the file\n",
        "            final_query_idx = query_idx\n",
        "            if query_idx > 450:\n",
        "                final_query_idx += 150\n",
        "            if final_query_idx >= 672:\n",
        "                final_query_idx += 1\n",
        "            file.write(f\"{final_query_idx} {model_score}\\n\")\n",
        "\n",
        "print(f\"Results saved to {output_file}\")\n"
      ],
      "metadata": {
        "colab": {
          "base_uri": "https://localhost:8080/"
        },
        "id": "zU0r9GOlBCv0",
        "outputId": "fe1beeac-2289-4e35-b923-a2e9ddffd0b7"
      },
      "execution_count": null,
      "outputs": [
        {
          "output_type": "stream",
          "name": "stdout",
          "text": [
            "Results saved to inference_results.txt\n"
          ]
        }
      ]
    },
    {
      "cell_type": "code",
      "source": [
        "def fusion_ranking(query_hits, model_weight: float, bm25_weight: float, k=1000, verbose=True):\n",
        "    run_name = \"run2\"\n",
        "    results = []\n",
        "\n",
        "    # Calculate the mean and std for the model and BM25 scores across all queries and hits\n",
        "    all_model_scores = []\n",
        "    all_bm25_scores = []\n",
        "\n",
        "    # Loop over the queries to calculate scores\n",
        "    for query_idx, hits in enumerate(query_hits):\n",
        "        model_scores = []\n",
        "        bm25_scores = []\n",
        "\n",
        "        query_id = query_idx + 301 if len(query_hits) == 50 else query_idx + 351\n",
        "        if query_id > 450:\n",
        "          query_id += 150\n",
        "        if query_id >= 672:\n",
        "          query_id += 1\n",
        "\n",
        "        # For each hit, compute the model score and BM25 score, and save them for statistics\n",
        "        for hit, model_score, bm_25_score in hits:\n",
        "            model_scores.append(model_score)\n",
        "            bm25_scores.append(bm_25_score)\n",
        "\n",
        "        # Calculate mean and std for model and BM25 scores\n",
        "        model_mean = pd.Series(model_scores).mean()\n",
        "        model_std = pd.Series(model_scores).std()\n",
        "        bm25_mean = pd.Series(bm25_scores).mean()\n",
        "        bm25_std = pd.Series(bm25_scores).std()\n",
        "\n",
        "        # Normalize the scores\n",
        "        for rank, (hit, model_score, bm_25_score) in enumerate(hits):\n",
        "            model_score = (model_score - model_mean) / model_std\n",
        "            bm_25_score = (bm_25_score - bm25_mean) / bm25_std\n",
        "\n",
        "            # Combine the scores\n",
        "            score = model_weight * model_score + bm25_weight * bm_25_score\n",
        "            results.append({\n",
        "                'query_id': query_id,\n",
        "                'nothing': \"Q0\",  # 'nothing' column should be \"Q0\"\n",
        "                'doc-id': hit.docid,\n",
        "                'rank': \"nothing-yet\",\n",
        "                'similarity': score,  # Store the combined similarity score here\n",
        "                'pyserini': run_name\n",
        "            })\n",
        "\n",
        "        # Collect the model and BM25 scores for all queries\n",
        "        all_model_scores.extend(model_scores)\n",
        "        all_bm25_scores.extend(bm25_scores)\n",
        "\n",
        "    # Calculate the overall mean and std for the model and BM25 scores\n",
        "    overall_model_mean = pd.Series(all_model_scores).mean()\n",
        "    overall_model_std = pd.Series(all_model_scores).std()\n",
        "    overall_bm25_mean = pd.Series(all_bm25_scores).mean()\n",
        "    overall_bm25_std = pd.Series(all_bm25_scores).std()\n",
        "\n",
        "    # Create a DataFrame from the list of results\n",
        "    reranked_scores_df = pd.DataFrame(results, columns=['query_id', 'nothing', 'doc-id', 'rank', 'similarity', 'pyserini'])\n",
        "\n",
        "    # Sort by query_id and similarity (descending)\n",
        "    reranked_scores_df = reranked_scores_df.sort_values(by=['query_id', 'similarity'], ascending=[True, False])\n",
        "\n",
        "    # Keep top k results per query based on similarity\n",
        "    top_k_per_query = reranked_scores_df.groupby('query_id').head(1000)\n",
        "    top_k_per_query['rank'] = top_k_per_query.groupby('query_id').cumcount() + 1\n",
        "    # Save to file in the required format (run3.res)\n",
        "    output_file = \"reranked-scores.txt\"\n",
        "    top_k_per_query.to_csv(output_file, sep=' ', index=False, header=False)\n",
        "\n",
        "    if verbose:\n",
        "        print(f\"Results saved to {output_file}\")\n",
        "\n",
        "    return top_k_per_query\n"
      ],
      "metadata": {
        "id": "Souv-u0aJauR"
      },
      "execution_count": null,
      "outputs": []
    },
    {
      "cell_type": "code",
      "source": [
        "model_weight = 0.32\n",
        "bm25_weight = 1 - model_weight\n",
        "k=6000\n",
        "#top_k_per_query = fusion_ranking(query_hits, model_weight, bm25_weight, k=k)\n",
        "top_k_per_query = fusion_ranking(inference_query_hits, model_weight, bm25_weight, k=k)"
      ],
      "metadata": {
        "colab": {
          "base_uri": "https://localhost:8080/"
        },
        "id": "6_otM94-cwwg",
        "outputId": "de554c38-b394-4de4-c605-c9eee3cd2305"
      },
      "execution_count": null,
      "outputs": [
        {
          "output_type": "stream",
          "name": "stderr",
          "text": [
            "<ipython-input-72-13d8ac59c888>:65: SettingWithCopyWarning: \n",
            "A value is trying to be set on a copy of a slice from a DataFrame.\n",
            "Try using .loc[row_indexer,col_indexer] = value instead\n",
            "\n",
            "See the caveats in the documentation: https://pandas.pydata.org/pandas-docs/stable/user_guide/indexing.html#returning-a-view-versus-a-copy\n",
            "  top_k_per_query['rank'] = top_k_per_query.groupby('query_id').cumcount() + 1\n"
          ]
        },
        {
          "output_type": "stream",
          "name": "stdout",
          "text": [
            "Results saved to reranked-scores.txt\n"
          ]
        }
      ]
    },
    {
      "cell_type": "code",
      "source": [
        "top_k_per_query[\"query_id\"].nunique()"
      ],
      "metadata": {
        "colab": {
          "base_uri": "https://localhost:8080/"
        },
        "id": "e0o-3Z1SBVYV",
        "outputId": "a56fafad-46c1-4d7c-95cf-fc81efff7183"
      },
      "execution_count": null,
      "outputs": [
        {
          "output_type": "execute_result",
          "data": {
            "text/plain": [
              "199"
            ]
          },
          "metadata": {},
          "execution_count": 71
        }
      ]
    },
    {
      "cell_type": "code",
      "source": [
        "run_and_save_results(output_scores=\"reranked-scores.txt\", output_metrics=\"reranked-metrics.txt\")"
      ],
      "metadata": {
        "colab": {
          "base_uri": "https://localhost:8080/"
        },
        "id": "3i0w55RxJap5",
        "outputId": "61cf5077-7d09-452d-a731-cc12d998f99e"
      },
      "execution_count": null,
      "outputs": [
        {
          "output_type": "stream",
          "name": "stdout",
          "text": [
            "Evaluating on file reranked-scores.txt\n"
          ]
        }
      ]
    },
    {
      "cell_type": "code",
      "source": [
        "def rank_cross_encoder(k=1000, verbose=True):\n",
        "    run_name = \"run3\"\n",
        "    results = []\n",
        "\n",
        "    # Calculate the mean and std for the model and BM25 scores across all queries and hits\n",
        "    all_model_scores = []\n",
        "\n",
        "    # Loop over the queries to calculate scores\n",
        "    for query_idx, hits in enumerate(query_hits):\n",
        "        model_scores = []\n",
        "\n",
        "        # For each hit, compute the model score and BM25 score, and save them for statistics\n",
        "        for hit, model_score, _ in hits:\n",
        "            model_scores.append(model_score)\n",
        "\n",
        "        # Normalize the scores\n",
        "        for rank, (hit, model_score, bm_25_score) in enumerate(hits):\n",
        "\n",
        "            results.append({\n",
        "                'query_id': query_idx + 301,\n",
        "                'nothing': \"Q0\",  # 'nothing' column should be \"Q0\"\n",
        "                'doc-id': hit.docid,\n",
        "                'rank': rank + 1,\n",
        "                'similarity': model_score,  # Store the combined similarity score here\n",
        "                'pyserini': run_name\n",
        "            })\n",
        "\n",
        "        # Collect the model and BM25 scores for all queries\n",
        "        all_model_scores.extend(model_scores)\n",
        "\n",
        "    # Create a DataFrame from the list of results\n",
        "    reranked_scores_df = pd.DataFrame(results, columns=['query_id', 'nothing', 'doc-id', 'rank', 'similarity', 'pyserini'])\n",
        "\n",
        "    # Sort by query_id and similarity (descending)\n",
        "    reranked_scores_df = reranked_scores_df.sort_values(by=['query_id', 'similarity'], ascending=[True, False])\n",
        "\n",
        "    # Keep top k results per query based on similarity\n",
        "    top_k_per_query = reranked_scores_df.groupby('query_id').head(k)\n",
        "\n",
        "    # Save to file in the required format (run3.res)\n",
        "    output_file = \"reranked-scores-crossencoder.txt\"\n",
        "    top_k_per_query.to_csv(output_file, sep=' ', index=False, header=False)\n",
        "\n",
        "    if verbose:\n",
        "        print(f\"Results saved to {output_file}\")\n",
        "\n",
        "\n"
      ],
      "metadata": {
        "id": "Dd2Z92c8fy2i"
      },
      "execution_count": null,
      "outputs": []
    },
    {
      "cell_type": "code",
      "source": [
        "rank_cross_encoder()"
      ],
      "metadata": {
        "colab": {
          "base_uri": "https://localhost:8080/"
        },
        "id": "g14novUYgfDS",
        "outputId": "32734e5b-6900-4d33-e681-aa187294f4c1"
      },
      "execution_count": null,
      "outputs": [
        {
          "output_type": "stream",
          "name": "stdout",
          "text": [
            "Results saved to reranked-scores-crossencoder.txt\n"
          ]
        }
      ]
    },
    {
      "cell_type": "code",
      "source": [
        "run_and_save_results(output_scores=\"reranked-scores-crossencoder.txt\", output_metrics=\"reranked-metrics-crossencoder.txt\")"
      ],
      "metadata": {
        "colab": {
          "base_uri": "https://localhost:8080/"
        },
        "id": "xbmkpTJ_fyuY",
        "outputId": "2ede23a9-fa7d-47db-91f1-9920b269ffaf"
      },
      "execution_count": null,
      "outputs": [
        {
          "output_type": "stream",
          "name": "stdout",
          "text": [
            "Evaluating on file reranked-scores-crossencoder.txt\n"
          ]
        }
      ]
    },
    {
      "cell_type": "code",
      "source": [
        "# Initialize model and BM25 weights\n",
        "model_weights = [0.05 * i for i in range(0, 21)]\n",
        "bm25_weights = [1 - w for w in model_weights]\n",
        "\n",
        "# Initialize list to store MAP values\n",
        "maps = []\n",
        "\n",
        "# Loop over model weights and BM25 weights with tqdm\n",
        "for model_weight in tqdm(model_weights, desc=\"Processing model weights\"):\n",
        "    # Run the fusion and save the results\n",
        "    fusion_ranking(model_weight, 1 - model_weight, verbose=False)  # Assume fusion_ranking is a predefined function\n",
        "    run_and_save_results(output_scores=\"reranked-scores.txt\", output_metrics=\"reranked-metrics.txt\", verbose=False)  # Run and save results\n",
        "    map_value = get_metric(metric=\"map\", file_name=\"reranked-metrics\",verbose=False)  # Get the MAP value after running the evaluation\n",
        "    maps.append(map_value)\n",
        "    os.remove(\"/content/reranked-scores.txt\")\n",
        "    os.remove(\"/content/reranked-metrics.txt\")\n",
        "\n",
        "# Find the best MAP and its corresponding model weight\n",
        "best_map = max(maps)\n",
        "best_weight = model_weights[maps.index(best_map)]\n",
        "\n",
        "# Plot the MAP values against the model weights\n",
        "plt.figure(figsize=(10, 6))\n",
        "plt.plot(model_weights, maps, label='MAP', color='b', marker='o')\n",
        "plt.title(\"MAP vs Model Weight\")\n",
        "plt.xlabel(\"Model Weight\")\n",
        "plt.ylabel(\"MAP\")\n",
        "plt.grid(True)\n",
        "plt.legend()\n",
        "\n",
        "# Annotate the best MAP value on the plot\n",
        "plt.annotate(f'Best MAP: {best_map:.4f}',\n",
        "             xy=(best_weight, best_map),\n",
        "             xycoords='data',\n",
        "             xytext=(best_weight + 0.05, best_map + 0.01),\n",
        "             textcoords='data',\n",
        "             arrowprops=dict(facecolor='black', arrowstyle=\"->\"),\n",
        "             fontsize=10)\n",
        "\n",
        "plt.show()\n"
      ],
      "metadata": {
        "colab": {
          "base_uri": "https://localhost:8080/",
          "height": 602
        },
        "id": "xzYuhhISb_im",
        "outputId": "101f1046-11b5-44fb-b248-bdd9cb66b0d4"
      },
      "execution_count": null,
      "outputs": [
        {
          "output_type": "stream",
          "name": "stderr",
          "text": [
            "Processing model weights: 100%|██████████| 21/21 [05:12<00:00, 14.87s/it]\n"
          ]
        },
        {
          "output_type": "display_data",
          "data": {
            "text/plain": [
              "<Figure size 1000x600 with 1 Axes>"
            ],
            "image/png": "[encoded data removed]"
          },
          "metadata": {}
        }
      ]
    },
    {
      "cell_type": "code",
      "source": [
        "# Initialize model weights (from 0.1 to 0.5 in increments of 0.05)\n",
        "#model_weights = [0.1 * i for i in range(1, 6)]  # [0.1, 0.15, 0.2, 0.25, 0.3, 0.35, 0.4, 0.45, 0.5]\n",
        "model_weights = [0.2 + 0.03 * i for i in range(6)]\n",
        "# Initialize k values from 1000 to 7000\n",
        "k_values = [i for i in range(1000, 8000, 1000)]\n",
        "\n",
        "# Initialize list to store MAP values\n",
        "maps = []\n",
        "\n",
        "# Loop over k values and model weights combinations with tqdm\n",
        "for k in tqdm(k_values, desc=\"Processing k values\"):\n",
        "    for model_weight in model_weights:\n",
        "        bm25_weight = 1 - model_weight  # BM25 weight is the complement of model weight\n",
        "\n",
        "        # Run the fusion with the current model weight, bm25 weight, and k value\n",
        "        fusion_ranking(model_weight=model_weight, bm25_weight=bm25_weight, k=k, verbose=False)  # Run fusion with current k and weights\n",
        "        run_and_save_results(output_scores=\"reranked-scores.txt\", output_metrics=\"reranked-metrics.txt\", verbose=False)  # Run and save results\n",
        "        map_value = get_metric(metric=\"map\", file_name=\"reranked-metrics\", verbose=False)  # Get the MAP value after running the evaluation\n",
        "        maps.append((k, model_weight, map_value))  # Store MAP with k and model_weight\n",
        "        os.remove(\"/content/reranked-scores.txt\")  # Clean up the results\n",
        "        os.remove(\"/content/reranked-metrics.txt\")\n",
        "\n",
        "# Find the best MAP and its corresponding k and model weight values\n",
        "best_map = max(maps, key=lambda x: x[2])\n",
        "best_k, best_weight, best_map_value = best_map\n",
        "print(f\"Best k: {best_k}, Best model weight: {best_weight}, Best MAP: {best_map_value}\")\n",
        "\n",
        "# Plot the MAP values against the k values and model weights\n",
        "plt.figure(figsize=(10, 6))\n",
        "\n",
        "# Plot for each combination of k and model weight\n",
        "for model_weight in model_weights:\n",
        "    k_vals = [entry[0] for entry in maps if entry[1] == model_weight]\n",
        "    map_vals = [entry[2] for entry in maps if entry[1] == model_weight]\n",
        "    plt.plot(k_vals, map_vals, label=f'Model Weight {model_weight:.2f}', marker='o')\n",
        "\n",
        "plt.title(\"MAP vs Top k Hits for Different Model Weights\")\n",
        "plt.xlabel(\"Top k Hits\")\n",
        "plt.ylabel(\"MAP\")\n",
        "plt.grid(True)\n",
        "plt.legend()\n",
        "\n",
        "# Annotate the best MAP value on the plot\n",
        "plt.annotate(f'Best MAP: {best_map_value:.4f}',\n",
        "             xy=(best_k, best_map_value),\n",
        "             xycoords='data',\n",
        "             xytext=(best_k + 100, best_map_value + 0.01),\n",
        "             textcoords='data',\n",
        "             fontsize=10,\n",
        "             arrowprops=dict(facecolor='black', arrowstyle=\"->\"))\n",
        "\n",
        "plt.show()\n"
      ],
      "metadata": {
        "colab": {
          "base_uri": "https://localhost:8080/",
          "height": 1000
        },
        "id": "APKMSVDXHLf-",
        "outputId": "d267d3e5-1b73-4e8f-f018-2e950b3467dc"
      },
      "execution_count": null,
      "outputs": [
        {
          "output_type": "stream",
          "name": "stderr",
          "text": [
            "\rProcessing k values:   0%|          | 0/7 [00:00<?, ?it/s]"
          ]
        },
        {
          "output_type": "stream",
          "name": "stdout",
          "text": [
            "qhits len 50\n",
            "qhits len 50\n",
            "qhits len 50\n",
            "qhits len 50\n",
            "qhits len 50\n",
            "qhits len 50\n"
          ]
        },
        {
          "output_type": "stream",
          "name": "stderr",
          "text": [
            "\rProcessing k values:  14%|█▍        | 1/7 [01:20<08:03, 80.54s/it]"
          ]
        },
        {
          "output_type": "stream",
          "name": "stdout",
          "text": [
            "qhits len 50\n",
            "qhits len 50\n",
            "qhits len 50\n",
            "qhits len 50\n",
            "qhits len 50\n",
            "qhits len 50\n"
          ]
        },
        {
          "output_type": "stream",
          "name": "stderr",
          "text": [
            "\rProcessing k values:  29%|██▊       | 2/7 [02:45<06:56, 83.30s/it]"
          ]
        },
        {
          "output_type": "stream",
          "name": "stdout",
          "text": [
            "qhits len 50\n",
            "qhits len 50\n",
            "qhits len 50\n",
            "qhits len 50\n",
            "qhits len 50\n",
            "qhits len 50\n"
          ]
        },
        {
          "output_type": "stream",
          "name": "stderr",
          "text": [
            "\rProcessing k values:  43%|████▎     | 3/7 [04:15<05:44, 86.01s/it]"
          ]
        },
        {
          "output_type": "stream",
          "name": "stdout",
          "text": [
            "qhits len 50\n",
            "qhits len 50\n",
            "qhits len 50\n",
            "qhits len 50\n",
            "qhits len 50\n",
            "qhits len 50\n"
          ]
        },
        {
          "output_type": "stream",
          "name": "stderr",
          "text": [
            "\rProcessing k values:  57%|█████▋    | 4/7 [05:47<04:26, 88.68s/it]"
          ]
        },
        {
          "output_type": "stream",
          "name": "stdout",
          "text": [
            "qhits len 50\n",
            "qhits len 50\n",
            "qhits len 50\n",
            "qhits len 50\n",
            "qhits len 50\n",
            "qhits len 50\n"
          ]
        },
        {
          "output_type": "stream",
          "name": "stderr",
          "text": [
            "\rProcessing k values:  71%|███████▏  | 5/7 [07:23<03:02, 91.17s/it]"
          ]
        },
        {
          "output_type": "stream",
          "name": "stdout",
          "text": [
            "qhits len 50\n",
            "qhits len 50\n",
            "qhits len 50\n",
            "qhits len 50\n",
            "qhits len 50\n",
            "qhits len 50\n"
          ]
        },
        {
          "output_type": "stream",
          "name": "stderr",
          "text": [
            "\rProcessing k values:  86%|████████▌ | 6/7 [09:02<01:33, 93.82s/it]"
          ]
        },
        {
          "output_type": "stream",
          "name": "stdout",
          "text": [
            "qhits len 50\n",
            "qhits len 50\n",
            "qhits len 50\n",
            "qhits len 50\n",
            "qhits len 50\n",
            "qhits len 50\n"
          ]
        },
        {
          "output_type": "stream",
          "name": "stderr",
          "text": [
            "Processing k values: 100%|██████████| 7/7 [10:46<00:00, 92.35s/it]\n"
          ]
        },
        {
          "output_type": "stream",
          "name": "stdout",
          "text": [
            "Best k: 6000, Best model weight: 0.32, Best MAP: 0.2789\n"
          ]
        },
        {
          "output_type": "display_data",
          "data": {
            "text/plain": [
              "<Figure size 1000x600 with 1 Axes>"
            ],
            "image/png": "[encoded data removed]"
          },
          "metadata": {}
        }
      ]
    },
    {
      "cell_type": "code",
      "source": [
        "# Assuming reranked_scores_df has a \"similarity\" column\n",
        "mean_similarity = reranked_scores_df[\"similarity\"].mean()\n",
        "std_similarity = reranked_scores_df[\"similarity\"].std()\n",
        "median_similarity = reranked_scores_df[\"similarity\"].median()\n",
        "min_similarity = reranked_scores_df[\"similarity\"].min()\n",
        "max_similarity = reranked_scores_df[\"similarity\"].max()\n",
        "mode_similarity = reranked_scores_df[\"similarity\"].mode()[0]  # mode() returns a Series; take the first value\n",
        "quantiles = reranked_scores_df[\"similarity\"].quantile([0.25, 0.5, 0.75])\n",
        "\n",
        "# Display results\n",
        "print(f\"Mean Similarity: {mean_similarity:.4f}\")\n",
        "print(f\"Standard Deviation: {std_similarity:.4f}\")\n",
        "print(f\"Median Similarity: {median_similarity:.4f}\")\n",
        "print(f\"Mode Similarity: {mode_similarity:.4f}\")\n",
        "print(f\"Minimum Similarity: {min_similarity:.4f}\")\n",
        "print(f\"Maximum Similarity: {max_similarity:.4f}\")\n",
        "print(f\"25th Percentile: {quantiles[0.25]:.4f}\")\n",
        "print(f\"50th Percentile (Median): {quantiles[0.5]:.4f}\")\n",
        "print(f\"75th Percentile: {quantiles[0.75]:.4f}\")\n"
      ],
      "metadata": {
        "colab": {
          "base_uri": "https://localhost:8080/"
        },
        "id": "CjuKs8QtTXnU",
        "outputId": "e5c747e3-8a5a-4ea3-aaa0-275f7f085606"
      },
      "execution_count": null,
      "outputs": [
        {
          "output_type": "stream",
          "name": "stdout",
          "text": [
            "Mean Similarity: -9.3840\n",
            "Standard Deviation: 2.1490\n",
            "Median Similarity: -10.1178\n",
            "Mode Similarity: -10.9827\n",
            "Minimum Similarity: -11.4845\n",
            "Maximum Similarity: 8.1565\n",
            "25th Percentile: -10.9275\n",
            "50th Percentile (Median): -10.1178\n",
            "75th Percentile: -8.5293\n"
          ]
        }
      ]
    },
    {
      "cell_type": "code",
      "source": [
        "# Descriptive statistics\n",
        "mean_similarity = scores_df[\"similarity\"].mean()\n",
        "std_similarity = scores_df[\"similarity\"].std()\n",
        "median_similarity = scores_df[\"similarity\"].median()\n",
        "min_similarity = scores_df[\"similarity\"].min()\n",
        "max_similarity = scores_df[\"similarity\"].max()\n",
        "mode_similarity = scores_df[\"similarity\"].mode()[0]  # Taking the first mode if there are multiple\n",
        "quantiles = scores_df[\"similarity\"].quantile([0.25, 0.5, 0.75])\n",
        "\n",
        "# Display results\n",
        "print(f\"Mean Similarity: {mean_similarity:.4f}\")\n",
        "print(f\"Standard Deviation: {std_similarity:.4f}\")\n",
        "print(f\"Median Similarity: {median_similarity:.4f}\")\n",
        "print(f\"Mode Similarity: {mode_similarity:.4f}\")\n",
        "print(f\"Minimum Similarity: {min_similarity:.4f}\")\n",
        "print(f\"Maximum Similarity: {max_similarity:.4f}\")\n",
        "print(f\"25th Percentile: {quantiles[0.25]:.4f}\")\n",
        "print(f\"50th Percentile (Median): {quantiles[0.5]:.4f}\")\n",
        "print(f\"75th Percentile: {quantiles[0.75]:.4f}\")\n",
        "\n",
        "# Additional statistics\n",
        "skewness = scores_df[\"similarity\"].skew()\n",
        "kurtosis = scores_df[\"similarity\"].kurt()\n",
        "\n",
        "print(f\"Skewness: {skewness:.4f}\")\n",
        "print(f\"Kurtosis: {kurtosis:.4f}\")\n",
        "\n",
        "# Binned Analysis\n",
        "bins = pd.cut(scores_df[\"similarity\"], bins=5)\n",
        "bin_counts = scores_df.groupby(bins)[\"similarity\"].count()\n",
        "\n",
        "print(\"\\nBinned Analysis:\")\n",
        "print(bin_counts)\n"
      ],
      "metadata": {
        "colab": {
          "base_uri": "https://localhost:8080/"
        },
        "id": "JoEbmpaPUVc-",
        "outputId": "317f65e0-1464-46fa-c92a-fbc6e402212c"
      },
      "execution_count": null,
      "outputs": [
        {
          "output_type": "stream",
          "name": "stdout",
          "text": [
            "Mean Similarity: 1.4357\n",
            "Standard Deviation: 0.5815\n",
            "Median Similarity: 1.4101\n",
            "Mode Similarity: 1.4609\n",
            "Minimum Similarity: 0.2621\n",
            "Maximum Similarity: 6.0597\n",
            "25th Percentile: 1.0747\n",
            "50th Percentile (Median): 1.4101\n",
            "75th Percentile: 1.7695\n",
            "Skewness: 0.7694\n",
            "Kurtosis: 2.1366\n",
            "\n",
            "Binned Analysis:\n",
            "similarity\n",
            "(0.256, 1.422]    25421\n",
            "(1.422, 2.581]    23040\n",
            "(2.581, 3.741]     1351\n",
            "(3.741, 4.9]        181\n",
            "(4.9, 6.06]           7\n",
            "Name: similarity, dtype: int64\n"
          ]
        },
        {
          "output_type": "stream",
          "name": "stderr",
          "text": [
            "<ipython-input-38-096226de1dc2>:30: FutureWarning: The default of observed=False is deprecated and will be changed to True in a future version of pandas. Pass observed=False to retain current behavior or observed=True to adopt the future default and silence this warning.\n",
            "  bin_counts = scores_df.groupby(bins)[\"similarity\"].count()\n"
          ]
        }
      ]
    },
    {
      "cell_type": "markdown",
      "source": [
        "#**Learning Fusion Section**"
      ],
      "metadata": {
        "id": "E92Dbvkzm8hW"
      }
    },
    {
      "cell_type": "code",
      "source": [
        "def create_scores_df(query_hits):\n",
        "  query_idxes = []\n",
        "  encoder_scores = []\n",
        "  bm25_scores = []\n",
        "\n",
        "  for query_idx, hits in enumerate(query_hits):\n",
        "      # For each hit, compute the model score and BM25 score, and save them for statistics\n",
        "      for hit, model_score, bm_25_score in hits:\n",
        "          query_idxes.append(query_idx)\n",
        "          encoder_scores.append(model_score)\n",
        "          bm25_scores.append(bm25_scores)\n",
        "\n",
        "  df = pd.DataFrame({\"query_idx\":query_idxes, \"encoder_score\":encoder_scores, \"bm25_score\":bm25_scores})\n",
        "  return df\n",
        "df = create_scores_df(query_hits)"
      ],
      "metadata": {
        "id": "TMN-yD2Lm_x5"
      },
      "execution_count": null,
      "outputs": []
    }
  ]
}